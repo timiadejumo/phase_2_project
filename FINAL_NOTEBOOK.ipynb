{
 "cells": [
  {
   "cell_type": "markdown",
   "metadata": {},
   "source": [
    "<h1 align=\"center\"> Group 1 Project</h1>"
   ]
  },
  {
   "cell_type": "markdown",
   "metadata": {},
   "source": [
    "## Phase 2\n",
    " - Tim, Timi, Chris"
   ]
  },
  {
   "cell_type": "markdown",
   "metadata": {},
   "source": [
    "## Table of Contents:\n",
    "* [Prerequisites](#1)\n",
    "* [Dealing with Null Values](#2)\n",
    "* [More Cleaning](#3)\n",
    "* [OneHotEncode our categorical values](#4)\n",
    "* [Finding our Features](#5)\n",
    "* [Train Test Split our data](#7)\n",
    "* [Advanced Modeling](#9)\n",
    "* [Residual Analysis](#10)"
   ]
  },
  {
   "cell_type": "markdown",
   "metadata": {},
   "source": [
    "## Business Understanding"
   ]
  },
  {
   "cell_type": "markdown",
   "metadata": {},
   "source": [
    "business stuff"
   ]
  },
  {
   "cell_type": "markdown",
   "metadata": {},
   "source": [
    "## Data Understanding"
   ]
  },
  {
   "cell_type": "markdown",
   "metadata": {},
   "source": [
    "data stuff"
   ]
  },
  {
   "cell_type": "markdown",
   "metadata": {},
   "source": [
    "### Prerequisites <a class=\"anchor\" id=\"1\"></a>"
   ]
  },
  {
   "cell_type": "code",
   "execution_count": 1,
   "metadata": {},
   "outputs": [],
   "source": [
    "# we start by importing the Python libraries that we will be using:\n",
    "import numpy as np\n",
    "import pandas as pd\n",
    "import seaborn as sns\n",
    "import scipy.stats as stats\n",
    "import matplotlib.pyplot as plt\n",
    "%matplotlib inline\n",
    "plt.rcParams['figure.figsize'] = (20.0, 10.0)\n",
    "plt.style.use('seaborn')\n",
    "import statsmodels.stats.api as sms\n",
    "import statsmodels.formula.api as smf\n",
    "from statsmodels.api import qqplot\n",
    "from statsmodels.formula.api import ols\n",
    "from statsmodels.tools.eval_measures import rmse\n",
    "from sklearn.model_selection import train_test_split\n",
    "from sklearn.preprocessing import OrdinalEncoder, OneHotEncoder, StandardScaler\n",
    "from sklearn.linear_model import LinearRegression\n",
    "from sklearn.metrics import r2_score\n",
    "from sklearn.dummy import DummyRegressor\n",
    "import datetime"
   ]
  },
  {
   "cell_type": "code",
   "execution_count": 2,
   "metadata": {
    "scrolled": false
   },
   "outputs": [
    {
     "data": {
      "text/html": [
       "<div>\n",
       "<style scoped>\n",
       "    .dataframe tbody tr th:only-of-type {\n",
       "        vertical-align: middle;\n",
       "    }\n",
       "\n",
       "    .dataframe tbody tr th {\n",
       "        vertical-align: top;\n",
       "    }\n",
       "\n",
       "    .dataframe thead th {\n",
       "        text-align: right;\n",
       "    }\n",
       "</style>\n",
       "<table border=\"1\" class=\"dataframe\">\n",
       "  <thead>\n",
       "    <tr style=\"text-align: right;\">\n",
       "      <th></th>\n",
       "      <th>id</th>\n",
       "      <th>date</th>\n",
       "      <th>price</th>\n",
       "      <th>bedrooms</th>\n",
       "      <th>bathrooms</th>\n",
       "      <th>sqft_living</th>\n",
       "      <th>sqft_lot</th>\n",
       "      <th>floors</th>\n",
       "      <th>waterfront</th>\n",
       "      <th>view</th>\n",
       "      <th>...</th>\n",
       "      <th>grade</th>\n",
       "      <th>sqft_above</th>\n",
       "      <th>sqft_basement</th>\n",
       "      <th>yr_built</th>\n",
       "      <th>yr_renovated</th>\n",
       "      <th>zipcode</th>\n",
       "      <th>lat</th>\n",
       "      <th>long</th>\n",
       "      <th>sqft_living15</th>\n",
       "      <th>sqft_lot15</th>\n",
       "    </tr>\n",
       "  </thead>\n",
       "  <tbody>\n",
       "    <tr>\n",
       "      <th>0</th>\n",
       "      <td>7129300520</td>\n",
       "      <td>10/13/2014</td>\n",
       "      <td>221900.0</td>\n",
       "      <td>3</td>\n",
       "      <td>1.00</td>\n",
       "      <td>1180</td>\n",
       "      <td>5650</td>\n",
       "      <td>1.0</td>\n",
       "      <td>NaN</td>\n",
       "      <td>NONE</td>\n",
       "      <td>...</td>\n",
       "      <td>7 Average</td>\n",
       "      <td>1180</td>\n",
       "      <td>0.0</td>\n",
       "      <td>1955</td>\n",
       "      <td>0.0</td>\n",
       "      <td>98178</td>\n",
       "      <td>47.5112</td>\n",
       "      <td>-122.257</td>\n",
       "      <td>1340</td>\n",
       "      <td>5650</td>\n",
       "    </tr>\n",
       "    <tr>\n",
       "      <th>1</th>\n",
       "      <td>6414100192</td>\n",
       "      <td>12/9/2014</td>\n",
       "      <td>538000.0</td>\n",
       "      <td>3</td>\n",
       "      <td>2.25</td>\n",
       "      <td>2570</td>\n",
       "      <td>7242</td>\n",
       "      <td>2.0</td>\n",
       "      <td>NO</td>\n",
       "      <td>NONE</td>\n",
       "      <td>...</td>\n",
       "      <td>7 Average</td>\n",
       "      <td>2170</td>\n",
       "      <td>400.0</td>\n",
       "      <td>1951</td>\n",
       "      <td>1991.0</td>\n",
       "      <td>98125</td>\n",
       "      <td>47.7210</td>\n",
       "      <td>-122.319</td>\n",
       "      <td>1690</td>\n",
       "      <td>7639</td>\n",
       "    </tr>\n",
       "    <tr>\n",
       "      <th>2</th>\n",
       "      <td>5631500400</td>\n",
       "      <td>2/25/2015</td>\n",
       "      <td>180000.0</td>\n",
       "      <td>2</td>\n",
       "      <td>1.00</td>\n",
       "      <td>770</td>\n",
       "      <td>10000</td>\n",
       "      <td>1.0</td>\n",
       "      <td>NO</td>\n",
       "      <td>NONE</td>\n",
       "      <td>...</td>\n",
       "      <td>6 Low Average</td>\n",
       "      <td>770</td>\n",
       "      <td>0.0</td>\n",
       "      <td>1933</td>\n",
       "      <td>NaN</td>\n",
       "      <td>98028</td>\n",
       "      <td>47.7379</td>\n",
       "      <td>-122.233</td>\n",
       "      <td>2720</td>\n",
       "      <td>8062</td>\n",
       "    </tr>\n",
       "    <tr>\n",
       "      <th>3</th>\n",
       "      <td>2487200875</td>\n",
       "      <td>12/9/2014</td>\n",
       "      <td>604000.0</td>\n",
       "      <td>4</td>\n",
       "      <td>3.00</td>\n",
       "      <td>1960</td>\n",
       "      <td>5000</td>\n",
       "      <td>1.0</td>\n",
       "      <td>NO</td>\n",
       "      <td>NONE</td>\n",
       "      <td>...</td>\n",
       "      <td>7 Average</td>\n",
       "      <td>1050</td>\n",
       "      <td>910.0</td>\n",
       "      <td>1965</td>\n",
       "      <td>0.0</td>\n",
       "      <td>98136</td>\n",
       "      <td>47.5208</td>\n",
       "      <td>-122.393</td>\n",
       "      <td>1360</td>\n",
       "      <td>5000</td>\n",
       "    </tr>\n",
       "    <tr>\n",
       "      <th>4</th>\n",
       "      <td>1954400510</td>\n",
       "      <td>2/18/2015</td>\n",
       "      <td>510000.0</td>\n",
       "      <td>3</td>\n",
       "      <td>2.00</td>\n",
       "      <td>1680</td>\n",
       "      <td>8080</td>\n",
       "      <td>1.0</td>\n",
       "      <td>NO</td>\n",
       "      <td>NONE</td>\n",
       "      <td>...</td>\n",
       "      <td>8 Good</td>\n",
       "      <td>1680</td>\n",
       "      <td>0.0</td>\n",
       "      <td>1987</td>\n",
       "      <td>0.0</td>\n",
       "      <td>98074</td>\n",
       "      <td>47.6168</td>\n",
       "      <td>-122.045</td>\n",
       "      <td>1800</td>\n",
       "      <td>7503</td>\n",
       "    </tr>\n",
       "  </tbody>\n",
       "</table>\n",
       "<p>5 rows × 21 columns</p>\n",
       "</div>"
      ],
      "text/plain": [
       "           id        date     price  bedrooms  bathrooms  sqft_living  \\\n",
       "0  7129300520  10/13/2014  221900.0         3       1.00         1180   \n",
       "1  6414100192   12/9/2014  538000.0         3       2.25         2570   \n",
       "2  5631500400   2/25/2015  180000.0         2       1.00          770   \n",
       "3  2487200875   12/9/2014  604000.0         4       3.00         1960   \n",
       "4  1954400510   2/18/2015  510000.0         3       2.00         1680   \n",
       "\n",
       "   sqft_lot  floors waterfront  view  ...          grade sqft_above  \\\n",
       "0      5650     1.0        NaN  NONE  ...      7 Average       1180   \n",
       "1      7242     2.0         NO  NONE  ...      7 Average       2170   \n",
       "2     10000     1.0         NO  NONE  ...  6 Low Average        770   \n",
       "3      5000     1.0         NO  NONE  ...      7 Average       1050   \n",
       "4      8080     1.0         NO  NONE  ...         8 Good       1680   \n",
       "\n",
       "   sqft_basement yr_built  yr_renovated  zipcode      lat     long  \\\n",
       "0            0.0     1955           0.0    98178  47.5112 -122.257   \n",
       "1          400.0     1951        1991.0    98125  47.7210 -122.319   \n",
       "2            0.0     1933           NaN    98028  47.7379 -122.233   \n",
       "3          910.0     1965           0.0    98136  47.5208 -122.393   \n",
       "4            0.0     1987           0.0    98074  47.6168 -122.045   \n",
       "\n",
       "   sqft_living15  sqft_lot15  \n",
       "0           1340        5650  \n",
       "1           1690        7639  \n",
       "2           2720        8062  \n",
       "3           1360        5000  \n",
       "4           1800        7503  \n",
       "\n",
       "[5 rows x 21 columns]"
      ]
     },
     "execution_count": 2,
     "metadata": {},
     "output_type": "execute_result"
    }
   ],
   "source": [
    "df = pd.read_csv('data/kc_house_data.csv') # load database\n",
    "\n",
    "df.head() # show first 5 entries"
   ]
  },
  {
   "cell_type": "code",
   "execution_count": 3,
   "metadata": {},
   "outputs": [
    {
     "name": "stdout",
     "output_type": "stream",
     "text": [
      "<class 'pandas.core.frame.DataFrame'>\n",
      "RangeIndex: 21597 entries, 0 to 21596\n",
      "Data columns (total 21 columns):\n",
      " #   Column         Non-Null Count  Dtype  \n",
      "---  ------         --------------  -----  \n",
      " 0   id             21597 non-null  int64  \n",
      " 1   date           21597 non-null  object \n",
      " 2   price          21597 non-null  float64\n",
      " 3   bedrooms       21597 non-null  int64  \n",
      " 4   bathrooms      21597 non-null  float64\n",
      " 5   sqft_living    21597 non-null  int64  \n",
      " 6   sqft_lot       21597 non-null  int64  \n",
      " 7   floors         21597 non-null  float64\n",
      " 8   waterfront     19221 non-null  object \n",
      " 9   view           21534 non-null  object \n",
      " 10  condition      21597 non-null  object \n",
      " 11  grade          21597 non-null  object \n",
      " 12  sqft_above     21597 non-null  int64  \n",
      " 13  sqft_basement  21597 non-null  object \n",
      " 14  yr_built       21597 non-null  int64  \n",
      " 15  yr_renovated   17755 non-null  float64\n",
      " 16  zipcode        21597 non-null  int64  \n",
      " 17  lat            21597 non-null  float64\n",
      " 18  long           21597 non-null  float64\n",
      " 19  sqft_living15  21597 non-null  int64  \n",
      " 20  sqft_lot15     21597 non-null  int64  \n",
      "dtypes: float64(6), int64(9), object(6)\n",
      "memory usage: 3.5+ MB\n"
     ]
    }
   ],
   "source": [
    "df.info() # get a summary of the data, seems like id doesn't need to be used"
   ]
  },
  {
   "cell_type": "markdown",
   "metadata": {},
   "source": [
    "### Data Processing <a class=\"anchor\" id=\"2\"></a>"
   ]
  },
  {
   "cell_type": "markdown",
   "metadata": {},
   "source": [
    "Right away it looks like the id column is going to be of no use, let's drop it"
   ]
  },
  {
   "cell_type": "code",
   "execution_count": 4,
   "metadata": {},
   "outputs": [
    {
     "name": "stdout",
     "output_type": "stream",
     "text": [
      "<class 'pandas.core.frame.DataFrame'>\n",
      "RangeIndex: 21597 entries, 0 to 21596\n",
      "Data columns (total 20 columns):\n",
      " #   Column         Non-Null Count  Dtype  \n",
      "---  ------         --------------  -----  \n",
      " 0   date           21597 non-null  object \n",
      " 1   price          21597 non-null  float64\n",
      " 2   bedrooms       21597 non-null  int64  \n",
      " 3   bathrooms      21597 non-null  float64\n",
      " 4   sqft_living    21597 non-null  int64  \n",
      " 5   sqft_lot       21597 non-null  int64  \n",
      " 6   floors         21597 non-null  float64\n",
      " 7   waterfront     19221 non-null  object \n",
      " 8   view           21534 non-null  object \n",
      " 9   condition      21597 non-null  object \n",
      " 10  grade          21597 non-null  object \n",
      " 11  sqft_above     21597 non-null  int64  \n",
      " 12  sqft_basement  21597 non-null  object \n",
      " 13  yr_built       21597 non-null  int64  \n",
      " 14  yr_renovated   17755 non-null  float64\n",
      " 15  zipcode        21597 non-null  int64  \n",
      " 16  lat            21597 non-null  float64\n",
      " 17  long           21597 non-null  float64\n",
      " 18  sqft_living15  21597 non-null  int64  \n",
      " 19  sqft_lot15     21597 non-null  int64  \n",
      "dtypes: float64(6), int64(8), object(6)\n",
      "memory usage: 3.3+ MB\n"
     ]
    }
   ],
   "source": [
    "df = df.drop(['id'], axis=1)\n",
    "\n",
    "df.info()"
   ]
  },
  {
   "cell_type": "code",
   "execution_count": 5,
   "metadata": {},
   "outputs": [
    {
     "data": {
      "text/plain": [
       "date                0\n",
       "price               0\n",
       "bedrooms            0\n",
       "bathrooms           0\n",
       "sqft_living         0\n",
       "sqft_lot            0\n",
       "floors              0\n",
       "waterfront       2376\n",
       "view               63\n",
       "condition           0\n",
       "grade               0\n",
       "sqft_above          0\n",
       "sqft_basement       0\n",
       "yr_built            0\n",
       "yr_renovated     3842\n",
       "zipcode             0\n",
       "lat                 0\n",
       "long                0\n",
       "sqft_living15       0\n",
       "sqft_lot15          0\n",
       "dtype: int64"
      ]
     },
     "execution_count": 5,
     "metadata": {},
     "output_type": "execute_result"
    }
   ],
   "source": [
    "df.isna().sum() # Looking at the number of total null values in our dataframe, as seen in our .info()"
   ]
  },
  {
   "cell_type": "markdown",
   "metadata": {},
   "source": [
    "We can see 3 total columns with null values, 2 of which have significantly more than the third. The waterfront column has boolean information on if a house is waterfront or not.\n",
    "\n",
    "The large total number of null values suggest that we should to see if we can fill them in with meaningful data instead of dropping them altogether."
   ]
  },
  {
   "cell_type": "code",
   "execution_count": 6,
   "metadata": {},
   "outputs": [
    {
     "data": {
      "text/plain": [
       "NO     19075\n",
       "YES      146\n",
       "Name: waterfront, dtype: int64"
      ]
     },
     "execution_count": 6,
     "metadata": {},
     "output_type": "execute_result"
    }
   ],
   "source": [
    "# looking at the first column with null values\n",
    "df['waterfront'].value_counts() # see how many houses total are waterfronts"
   ]
  },
  {
   "cell_type": "code",
   "execution_count": 7,
   "metadata": {},
   "outputs": [],
   "source": [
    "df['waterfront'] = df['waterfront'].fillna(value='NO') # replace all instances of a null value with NO"
   ]
  },
  {
   "cell_type": "code",
   "execution_count": 8,
   "metadata": {},
   "outputs": [
    {
     "data": {
      "text/plain": [
       "count     21534\n",
       "unique        5\n",
       "top        NONE\n",
       "freq      19422\n",
       "Name: view, dtype: object"
      ]
     },
     "execution_count": 8,
     "metadata": {},
     "output_type": "execute_result"
    }
   ],
   "source": [
    "df.view.describe() # take a look at the view column"
   ]
  },
  {
   "cell_type": "code",
   "execution_count": 9,
   "metadata": {},
   "outputs": [],
   "source": [
    "df['view'] = df['view'].fillna(value='NONE') # replace all instances of a null value with NONE"
   ]
  },
  {
   "cell_type": "code",
   "execution_count": 10,
   "metadata": {},
   "outputs": [
    {
     "data": {
      "text/plain": [
       "0.0       17011\n",
       "2014.0       73\n",
       "2003.0       31\n",
       "2013.0       31\n",
       "2007.0       30\n",
       "          ...  \n",
       "1946.0        1\n",
       "1959.0        1\n",
       "1971.0        1\n",
       "1951.0        1\n",
       "1954.0        1\n",
       "Name: yr_renovated, Length: 70, dtype: int64"
      ]
     },
     "execution_count": 10,
     "metadata": {},
     "output_type": "execute_result"
    }
   ],
   "source": [
    "df['yr_renovated'].value_counts() # take a look at the year renovated column"
   ]
  },
  {
   "cell_type": "code",
   "execution_count": 11,
   "metadata": {},
   "outputs": [],
   "source": [
    "df['yr_renovated'] = df['yr_renovated'].fillna(value=0.0) # replace all instances of a null value with 0.0"
   ]
  },
  {
   "cell_type": "markdown",
   "metadata": {},
   "source": [
    "Important possible categories for our stakeholder, including sqft_basement, are objects, but we need to see if we can get them to a more useful format to use in our analysis."
   ]
  },
  {
   "cell_type": "code",
   "execution_count": 12,
   "metadata": {},
   "outputs": [
    {
     "data": {
      "text/plain": [
       "array(['0.0', '400.0', '910.0', '1530.0', '?', '730.0', '1700.0', '300.0',\n",
       "       '970.0', '760.0', '720.0', '700.0', '820.0', '780.0', '790.0',\n",
       "       '330.0', '1620.0', '360.0', '588.0', '1510.0', '410.0', '990.0',\n",
       "       '600.0', '560.0', '550.0', '1000.0', '1600.0', '500.0', '1040.0',\n",
       "       '880.0', '1010.0', '240.0', '265.0', '290.0', '800.0', '540.0',\n",
       "       '710.0', '840.0', '380.0', '770.0', '480.0', '570.0', '1490.0',\n",
       "       '620.0', '1250.0', '1270.0', '120.0', '650.0', '180.0', '1130.0',\n",
       "       '450.0', '1640.0', '1460.0', '1020.0', '1030.0', '750.0', '640.0',\n",
       "       '1070.0', '490.0', '1310.0', '630.0', '2000.0', '390.0', '430.0',\n",
       "       '850.0', '210.0', '1430.0', '1950.0', '440.0', '220.0', '1160.0',\n",
       "       '860.0', '580.0', '2060.0', '1820.0', '1180.0', '200.0', '1150.0',\n",
       "       '1200.0', '680.0', '530.0', '1450.0', '1170.0', '1080.0', '960.0',\n",
       "       '280.0', '870.0', '1100.0', '460.0', '1400.0', '660.0', '1220.0',\n",
       "       '900.0', '420.0', '1580.0', '1380.0', '475.0', '690.0', '270.0',\n",
       "       '350.0', '935.0', '1370.0', '980.0', '1470.0', '160.0', '950.0',\n",
       "       '50.0', '740.0', '1780.0', '1900.0', '340.0', '470.0', '370.0',\n",
       "       '140.0', '1760.0', '130.0', '520.0', '890.0', '1110.0', '150.0',\n",
       "       '1720.0', '810.0', '190.0', '1290.0', '670.0', '1800.0', '1120.0',\n",
       "       '1810.0', '60.0', '1050.0', '940.0', '310.0', '930.0', '1390.0',\n",
       "       '610.0', '1830.0', '1300.0', '510.0', '1330.0', '1590.0', '920.0',\n",
       "       '1320.0', '1420.0', '1240.0', '1960.0', '1560.0', '2020.0',\n",
       "       '1190.0', '2110.0', '1280.0', '250.0', '2390.0', '1230.0', '170.0',\n",
       "       '830.0', '1260.0', '1410.0', '1340.0', '590.0', '1500.0', '1140.0',\n",
       "       '260.0', '100.0', '320.0', '1480.0', '1060.0', '1284.0', '1670.0',\n",
       "       '1350.0', '2570.0', '1090.0', '110.0', '2500.0', '90.0', '1940.0',\n",
       "       '1550.0', '2350.0', '2490.0', '1481.0', '1360.0', '1135.0',\n",
       "       '1520.0', '1850.0', '1660.0', '2130.0', '2600.0', '1690.0',\n",
       "       '243.0', '1210.0', '1024.0', '1798.0', '1610.0', '1440.0',\n",
       "       '1570.0', '1650.0', '704.0', '1910.0', '1630.0', '2360.0',\n",
       "       '1852.0', '2090.0', '2400.0', '1790.0', '2150.0', '230.0', '70.0',\n",
       "       '1680.0', '2100.0', '3000.0', '1870.0', '1710.0', '2030.0',\n",
       "       '875.0', '1540.0', '2850.0', '2170.0', '506.0', '906.0', '145.0',\n",
       "       '2040.0', '784.0', '1750.0', '374.0', '518.0', '2720.0', '2730.0',\n",
       "       '1840.0', '3480.0', '2160.0', '1920.0', '2330.0', '1860.0',\n",
       "       '2050.0', '4820.0', '1913.0', '80.0', '2010.0', '3260.0', '2200.0',\n",
       "       '415.0', '1730.0', '652.0', '2196.0', '1930.0', '515.0', '40.0',\n",
       "       '2080.0', '2580.0', '1548.0', '1740.0', '235.0', '861.0', '1890.0',\n",
       "       '2220.0', '792.0', '2070.0', '4130.0', '2250.0', '2240.0',\n",
       "       '1990.0', '768.0', '2550.0', '435.0', '1008.0', '2300.0', '2610.0',\n",
       "       '666.0', '3500.0', '172.0', '1816.0', '2190.0', '1245.0', '1525.0',\n",
       "       '1880.0', '862.0', '946.0', '1281.0', '414.0', '2180.0', '276.0',\n",
       "       '1248.0', '602.0', '516.0', '176.0', '225.0', '1275.0', '266.0',\n",
       "       '283.0', '65.0', '2310.0', '10.0', '1770.0', '2120.0', '295.0',\n",
       "       '207.0', '915.0', '556.0', '417.0', '143.0', '508.0', '2810.0',\n",
       "       '20.0', '274.0', '248.0'], dtype=object)"
      ]
     },
     "execution_count": 12,
     "metadata": {},
     "output_type": "execute_result"
    }
   ],
   "source": [
    "# sqft_basement is an object while the others are numerical, let's investigate\n",
    "df['sqft_basement'].unique() # with this we can see all unique entries in this particular column,\n",
    "                             # maybe a string got entered by accident or something similar"
   ]
  },
  {
   "cell_type": "markdown",
   "metadata": {},
   "source": [
    "There appears to be instances of a question mark which we should remove"
   ]
  },
  {
   "cell_type": "code",
   "execution_count": 13,
   "metadata": {},
   "outputs": [],
   "source": [
    "df = df[df['sqft_basement'] != '?'] # drop all of the rows that have '?' as their value"
   ]
  },
  {
   "cell_type": "code",
   "execution_count": 14,
   "metadata": {},
   "outputs": [],
   "source": [
    "df['sqft_basement'] = df['sqft_basement'].astype(\"float\") # convert the remaining values as floats from strings"
   ]
  },
  {
   "cell_type": "markdown",
   "metadata": {},
   "source": [
    "Date also appears to be an object, let's see about that"
   ]
  },
  {
   "cell_type": "code",
   "execution_count": 15,
   "metadata": {},
   "outputs": [
    {
     "data": {
      "text/plain": [
       "0        10/13/2014\n",
       "1         12/9/2014\n",
       "2         2/25/2015\n",
       "3         12/9/2014\n",
       "4         2/18/2015\n",
       "            ...    \n",
       "21592     5/21/2014\n",
       "21593     2/23/2015\n",
       "21594     6/23/2014\n",
       "21595     1/16/2015\n",
       "21596    10/15/2014\n",
       "Name: date, Length: 21143, dtype: object"
      ]
     },
     "execution_count": 15,
     "metadata": {},
     "output_type": "execute_result"
    }
   ],
   "source": [
    "df['date'] # see the formatting of our dates"
   ]
  },
  {
   "cell_type": "code",
   "execution_count": 16,
   "metadata": {},
   "outputs": [],
   "source": [
    "# we can split the dates up by year, that should be enough for our stakeholder\n",
    "df['date'] = [x[-4:] for x in df['date']]\n",
    "\n",
    "df['date'] = df['date'].astype(\"int64\")"
   ]
  },
  {
   "cell_type": "code",
   "execution_count": 17,
   "metadata": {},
   "outputs": [
    {
     "data": {
      "text/plain": [
       "NO     21001\n",
       "YES      142\n",
       "Name: waterfront, dtype: int64"
      ]
     },
     "execution_count": 17,
     "metadata": {},
     "output_type": "execute_result"
    }
   ],
   "source": [
    "df['waterfront'].value_counts()"
   ]
  },
  {
   "cell_type": "markdown",
   "metadata": {},
   "source": [
    "Waterfront appears to be boolean, we should convert it to a string so we can onehotencode it later"
   ]
  },
  {
   "cell_type": "code",
   "execution_count": 18,
   "metadata": {},
   "outputs": [],
   "source": [
    "df['waterfront'] = df['waterfront'].astype(str) # turn our booleans into strings so we can onehotencode"
   ]
  },
  {
   "cell_type": "markdown",
   "metadata": {},
   "source": [
    "### Feature Creation"
   ]
  },
  {
   "cell_type": "markdown",
   "metadata": {},
   "source": [
    "Because location is everything, we will be categorizing our zipcodes to regions so we can get a more accurate model of where the best place to build is."
   ]
  },
  {
   "cell_type": "code",
   "execution_count": 19,
   "metadata": {
    "scrolled": true
   },
   "outputs": [
    {
     "data": {
      "text/plain": [
       "98199    1\n",
       "98040    1\n",
       "98031    1\n",
       "98032    1\n",
       "98033    1\n",
       "        ..\n",
       "98092    1\n",
       "98077    1\n",
       "98075    1\n",
       "98074    1\n",
       "98001    1\n",
       "Length: 70, dtype: int64"
      ]
     },
     "execution_count": 19,
     "metadata": {},
     "output_type": "execute_result"
    }
   ],
   "source": [
    "df['zipcode'].value_counts() # Check zip value counts\n",
    "ziplist = df['zipcode'] # create zip code list for sorting\n",
    "ziplist = list(dict.fromkeys(ziplist)) # Pull unique values\n",
    "ziplist.sort() # Sort list for visibility\n",
    "pd.DataFrame(ziplist).value_counts() # check to see if our unique elements are intact"
   ]
  },
  {
   "cell_type": "code",
   "execution_count": 20,
   "metadata": {},
   "outputs": [
    {
     "data": {
      "text/html": [
       "<div>\n",
       "<style scoped>\n",
       "    .dataframe tbody tr th:only-of-type {\n",
       "        vertical-align: middle;\n",
       "    }\n",
       "\n",
       "    .dataframe tbody tr th {\n",
       "        vertical-align: top;\n",
       "    }\n",
       "\n",
       "    .dataframe thead th {\n",
       "        text-align: right;\n",
       "    }\n",
       "</style>\n",
       "<table border=\"1\" class=\"dataframe\">\n",
       "  <thead>\n",
       "    <tr style=\"text-align: right;\">\n",
       "      <th></th>\n",
       "      <th>Zip</th>\n",
       "      <th>Region</th>\n",
       "      <th>City</th>\n",
       "    </tr>\n",
       "  </thead>\n",
       "  <tbody>\n",
       "    <tr>\n",
       "      <th>0</th>\n",
       "      <td>98001</td>\n",
       "      <td>S</td>\n",
       "      <td>Auburn</td>\n",
       "    </tr>\n",
       "    <tr>\n",
       "      <th>1</th>\n",
       "      <td>98002</td>\n",
       "      <td>S</td>\n",
       "      <td>Auburn</td>\n",
       "    </tr>\n",
       "    <tr>\n",
       "      <th>2</th>\n",
       "      <td>98003</td>\n",
       "      <td>S</td>\n",
       "      <td>Federal Way</td>\n",
       "    </tr>\n",
       "    <tr>\n",
       "      <th>3</th>\n",
       "      <td>98004</td>\n",
       "      <td>W</td>\n",
       "      <td>Bellevue</td>\n",
       "    </tr>\n",
       "    <tr>\n",
       "      <th>4</th>\n",
       "      <td>98005</td>\n",
       "      <td>W</td>\n",
       "      <td>Bellevue</td>\n",
       "    </tr>\n",
       "    <tr>\n",
       "      <th>...</th>\n",
       "      <td>...</td>\n",
       "      <td>...</td>\n",
       "      <td>...</td>\n",
       "    </tr>\n",
       "    <tr>\n",
       "      <th>65</th>\n",
       "      <td>98177</td>\n",
       "      <td>SeaN</td>\n",
       "      <td>Seattle</td>\n",
       "    </tr>\n",
       "    <tr>\n",
       "      <th>66</th>\n",
       "      <td>98178</td>\n",
       "      <td>SeaS</td>\n",
       "      <td>Seattle</td>\n",
       "    </tr>\n",
       "    <tr>\n",
       "      <th>67</th>\n",
       "      <td>98188</td>\n",
       "      <td>SeaS</td>\n",
       "      <td>Seattle</td>\n",
       "    </tr>\n",
       "    <tr>\n",
       "      <th>68</th>\n",
       "      <td>98198</td>\n",
       "      <td>SeaS</td>\n",
       "      <td>Seattle</td>\n",
       "    </tr>\n",
       "    <tr>\n",
       "      <th>69</th>\n",
       "      <td>98199</td>\n",
       "      <td>SeaW</td>\n",
       "      <td>Seattle</td>\n",
       "    </tr>\n",
       "  </tbody>\n",
       "</table>\n",
       "<p>70 rows × 3 columns</p>\n",
       "</div>"
      ],
      "text/plain": [
       "      Zip Region         City\n",
       "0   98001      S       Auburn\n",
       "1   98002      S       Auburn\n",
       "2   98003      S  Federal Way\n",
       "3   98004      W     Bellevue\n",
       "4   98005      W     Bellevue\n",
       "..    ...    ...          ...\n",
       "65  98177   SeaN      Seattle\n",
       "66  98178   SeaS      Seattle\n",
       "67  98188   SeaS      Seattle\n",
       "68  98198   SeaS      Seattle\n",
       "69  98199   SeaW      Seattle\n",
       "\n",
       "[70 rows x 3 columns]"
      ]
     },
     "execution_count": 20,
     "metadata": {},
     "output_type": "execute_result"
    }
   ],
   "source": [
    "# Load df with Zip codes broken down by Region and City\n",
    "region_df = pd.read_csv('Data/ZipCode_Region_City_List.csv')\n",
    "\n",
    "region_df['Zip'] = region_df['Zip'].str.replace(',', '') # Clean Zip column\n",
    "region_df['Zip'] = region_df['Zip'].str.replace(' ', '')\n",
    "\n",
    "region_df # Verify"
   ]
  },
  {
   "cell_type": "code",
   "execution_count": 21,
   "metadata": {
    "scrolled": true
   },
   "outputs": [
    {
     "name": "stdout",
     "output_type": "stream",
     "text": [
      "[98011, 98019, 98028, 98033, 98034, 98052, 98053, 98072, 98074, 98075, 98077]\n",
      "[98001, 98002, 98003, 98010, 98022, 98023, 98030, 98031, 98032, 98042, 98092]\n"
     ]
    }
   ],
   "source": [
    "# King County \n",
    "\n",
    "# South\n",
    "South_zips = region_df['Zip'][(region_df['Region'] == 'S')].astype(int)\n",
    "South_zips_list = South_zips.tolist()\n",
    "\n",
    "# North\n",
    "North_zips = region_df['Zip'][(region_df['Region'] == 'N')].astype(int)\n",
    "North_zips_list = North_zips.tolist()\n",
    "\n",
    "# East\n",
    "East_zips = region_df['Zip'][(region_df['Region'] == 'E')].astype(int)\n",
    "East_zips_list = East_zips.tolist()\n",
    "\n",
    "# West\n",
    "West_zips = region_df['Zip'][(region_df['Region'] == 'W')].astype(int)\n",
    "West_zips_list = West_zips.tolist()\n",
    "\n",
    "\n",
    "# Seattle\n",
    "\n",
    "# South\n",
    "Sea_South_zips = region_df['Zip'][(region_df['Region'] == 'SeaS')].astype(int)\n",
    "Sea_South_zips_list = Sea_South_zips.tolist()\n",
    "\n",
    "# North\n",
    "Sea_North_zips = region_df['Zip'][(region_df['Region'] == 'SeaN')].astype(int)\n",
    "Sea_North_zips_list = Sea_North_zips.tolist()\n",
    "\n",
    "# East\n",
    "Sea_East_zips = region_df['Zip'][(region_df['Region'] == 'SeaE')].astype(int)\n",
    "Sea_East_zips_list = Sea_East_zips.tolist()\n",
    "\n",
    "# West\n",
    "Sea_West_zips = region_df['Zip'][(region_df['Region'] == 'SeaW')].astype(int)\n",
    "Sea_West_zips_list = Sea_West_zips.tolist()\n",
    "\n",
    "# Verify a couple results\n",
    "print(North_zips_list)\n",
    "print(South_zips_list)"
   ]
  },
  {
   "cell_type": "code",
   "execution_count": 22,
   "metadata": {},
   "outputs": [],
   "source": [
    "region_list = df['zipcode'].tolist()\n",
    "region_append_list = [] # initialize blank list for our categorical data\n",
    "for zipcode in region_list: # for loop to append appropriate labels to zipcodes so we can encode it later on\n",
    "        if zipcode in South_zips_list:\n",
    "            region_append_list.append('South')\n",
    "        elif zipcode in North_zips_list:\n",
    "            region_append_list.append('North')\n",
    "        elif zipcode in East_zips_list:\n",
    "            region_append_list.append('East')\n",
    "        elif zipcode in West_zips_list:\n",
    "            region_append_list.append('West')\n",
    "        elif zipcode in Sea_West_zips_list:\n",
    "            region_append_list.append('West')\n",
    "        elif zipcode in Sea_North_zips_list:\n",
    "            region_append_list.append('North')\n",
    "        elif zipcode in Sea_South_zips_list:\n",
    "            region_append_list.append('South')\n",
    "        elif zipcode in Sea_East_zips_list:\n",
    "            region_append_list.append('East')\n",
    "        else:\n",
    "            continue"
   ]
  },
  {
   "cell_type": "code",
   "execution_count": 23,
   "metadata": {},
   "outputs": [],
   "source": [
    "region_append_list2 = []\n",
    "\n",
    "for zipcode in region_list: # for loop to append appropriate labels to zipcodes so we can encode it later on\n",
    "        if zipcode in South_zips_list:\n",
    "            region_append_list2.append('NO')\n",
    "        elif zipcode in North_zips_list:\n",
    "            region_append_list2.append('NO')\n",
    "        elif zipcode in East_zips_list:\n",
    "            region_append_list2.append('NO')\n",
    "        elif zipcode in West_zips_list:\n",
    "            region_append_list2.append('NO')\n",
    "        elif zipcode in Sea_West_zips_list:\n",
    "            region_append_list2.append('YES')\n",
    "        elif zipcode in Sea_North_zips_list:\n",
    "            region_append_list2.append('YES')\n",
    "        elif zipcode in Sea_South_zips_list:\n",
    "            region_append_list2.append('YES')\n",
    "        elif zipcode in Sea_East_zips_list:\n",
    "            region_append_list2.append('YES')\n",
    "        else:\n",
    "            continue"
   ]
  },
  {
   "cell_type": "code",
   "execution_count": 24,
   "metadata": {},
   "outputs": [
    {
     "name": "stdout",
     "output_type": "stream",
     "text": [
      "Our region list is 21143 entries long.\n",
      "date             21143\n",
      "price            21143\n",
      "bedrooms         21143\n",
      "bathrooms        21143\n",
      "sqft_living      21143\n",
      "sqft_lot         21143\n",
      "floors           21143\n",
      "waterfront       21143\n",
      "view             21143\n",
      "condition        21143\n",
      "grade            21143\n",
      "sqft_above       21143\n",
      "sqft_basement    21143\n",
      "yr_built         21143\n",
      "yr_renovated     21143\n",
      "zipcode          21143\n",
      "lat              21143\n",
      "long             21143\n",
      "sqft_living15    21143\n",
      "sqft_lot15       21143\n",
      "dtype: int64\n"
     ]
    }
   ],
   "source": [
    "# Cast zipcode col from Dataframe as a list for future comparison\n",
    "reg = len(region_list)\n",
    "print(f\"Our region list is {reg} entries long.\") # check to see if our new list is the same size as our existing dataframe\n",
    "print(df.count())"
   ]
  },
  {
   "cell_type": "code",
   "execution_count": 25,
   "metadata": {},
   "outputs": [
    {
     "data": {
      "text/html": [
       "<div>\n",
       "<style scoped>\n",
       "    .dataframe tbody tr th:only-of-type {\n",
       "        vertical-align: middle;\n",
       "    }\n",
       "\n",
       "    .dataframe tbody tr th {\n",
       "        vertical-align: top;\n",
       "    }\n",
       "\n",
       "    .dataframe thead th {\n",
       "        text-align: right;\n",
       "    }\n",
       "</style>\n",
       "<table border=\"1\" class=\"dataframe\">\n",
       "  <thead>\n",
       "    <tr style=\"text-align: right;\">\n",
       "      <th></th>\n",
       "      <th>date</th>\n",
       "      <th>price</th>\n",
       "      <th>bedrooms</th>\n",
       "      <th>bathrooms</th>\n",
       "      <th>sqft_living</th>\n",
       "      <th>sqft_lot</th>\n",
       "      <th>floors</th>\n",
       "      <th>waterfront</th>\n",
       "      <th>view</th>\n",
       "      <th>condition</th>\n",
       "      <th>...</th>\n",
       "      <th>sqft_basement</th>\n",
       "      <th>yr_built</th>\n",
       "      <th>yr_renovated</th>\n",
       "      <th>zipcode</th>\n",
       "      <th>lat</th>\n",
       "      <th>long</th>\n",
       "      <th>sqft_living15</th>\n",
       "      <th>sqft_lot15</th>\n",
       "      <th>region</th>\n",
       "      <th>in_sea</th>\n",
       "    </tr>\n",
       "  </thead>\n",
       "  <tbody>\n",
       "    <tr>\n",
       "      <th>0</th>\n",
       "      <td>2014</td>\n",
       "      <td>221900.0</td>\n",
       "      <td>3</td>\n",
       "      <td>1.00</td>\n",
       "      <td>1180</td>\n",
       "      <td>5650</td>\n",
       "      <td>1.0</td>\n",
       "      <td>NO</td>\n",
       "      <td>NONE</td>\n",
       "      <td>Average</td>\n",
       "      <td>...</td>\n",
       "      <td>0.0</td>\n",
       "      <td>1955</td>\n",
       "      <td>0.0</td>\n",
       "      <td>98178</td>\n",
       "      <td>47.5112</td>\n",
       "      <td>-122.257</td>\n",
       "      <td>1340</td>\n",
       "      <td>5650</td>\n",
       "      <td>South</td>\n",
       "      <td>YES</td>\n",
       "    </tr>\n",
       "    <tr>\n",
       "      <th>1</th>\n",
       "      <td>2014</td>\n",
       "      <td>538000.0</td>\n",
       "      <td>3</td>\n",
       "      <td>2.25</td>\n",
       "      <td>2570</td>\n",
       "      <td>7242</td>\n",
       "      <td>2.0</td>\n",
       "      <td>NO</td>\n",
       "      <td>NONE</td>\n",
       "      <td>Average</td>\n",
       "      <td>...</td>\n",
       "      <td>400.0</td>\n",
       "      <td>1951</td>\n",
       "      <td>1991.0</td>\n",
       "      <td>98125</td>\n",
       "      <td>47.7210</td>\n",
       "      <td>-122.319</td>\n",
       "      <td>1690</td>\n",
       "      <td>7639</td>\n",
       "      <td>North</td>\n",
       "      <td>YES</td>\n",
       "    </tr>\n",
       "    <tr>\n",
       "      <th>2</th>\n",
       "      <td>2015</td>\n",
       "      <td>180000.0</td>\n",
       "      <td>2</td>\n",
       "      <td>1.00</td>\n",
       "      <td>770</td>\n",
       "      <td>10000</td>\n",
       "      <td>1.0</td>\n",
       "      <td>NO</td>\n",
       "      <td>NONE</td>\n",
       "      <td>Average</td>\n",
       "      <td>...</td>\n",
       "      <td>0.0</td>\n",
       "      <td>1933</td>\n",
       "      <td>0.0</td>\n",
       "      <td>98028</td>\n",
       "      <td>47.7379</td>\n",
       "      <td>-122.233</td>\n",
       "      <td>2720</td>\n",
       "      <td>8062</td>\n",
       "      <td>North</td>\n",
       "      <td>NO</td>\n",
       "    </tr>\n",
       "    <tr>\n",
       "      <th>3</th>\n",
       "      <td>2014</td>\n",
       "      <td>604000.0</td>\n",
       "      <td>4</td>\n",
       "      <td>3.00</td>\n",
       "      <td>1960</td>\n",
       "      <td>5000</td>\n",
       "      <td>1.0</td>\n",
       "      <td>NO</td>\n",
       "      <td>NONE</td>\n",
       "      <td>Very Good</td>\n",
       "      <td>...</td>\n",
       "      <td>910.0</td>\n",
       "      <td>1965</td>\n",
       "      <td>0.0</td>\n",
       "      <td>98136</td>\n",
       "      <td>47.5208</td>\n",
       "      <td>-122.393</td>\n",
       "      <td>1360</td>\n",
       "      <td>5000</td>\n",
       "      <td>West</td>\n",
       "      <td>YES</td>\n",
       "    </tr>\n",
       "    <tr>\n",
       "      <th>4</th>\n",
       "      <td>2015</td>\n",
       "      <td>510000.0</td>\n",
       "      <td>3</td>\n",
       "      <td>2.00</td>\n",
       "      <td>1680</td>\n",
       "      <td>8080</td>\n",
       "      <td>1.0</td>\n",
       "      <td>NO</td>\n",
       "      <td>NONE</td>\n",
       "      <td>Average</td>\n",
       "      <td>...</td>\n",
       "      <td>0.0</td>\n",
       "      <td>1987</td>\n",
       "      <td>0.0</td>\n",
       "      <td>98074</td>\n",
       "      <td>47.6168</td>\n",
       "      <td>-122.045</td>\n",
       "      <td>1800</td>\n",
       "      <td>7503</td>\n",
       "      <td>North</td>\n",
       "      <td>NO</td>\n",
       "    </tr>\n",
       "  </tbody>\n",
       "</table>\n",
       "<p>5 rows × 22 columns</p>\n",
       "</div>"
      ],
      "text/plain": [
       "   date     price  bedrooms  bathrooms  sqft_living  sqft_lot  floors  \\\n",
       "0  2014  221900.0         3       1.00         1180      5650     1.0   \n",
       "1  2014  538000.0         3       2.25         2570      7242     2.0   \n",
       "2  2015  180000.0         2       1.00          770     10000     1.0   \n",
       "3  2014  604000.0         4       3.00         1960      5000     1.0   \n",
       "4  2015  510000.0         3       2.00         1680      8080     1.0   \n",
       "\n",
       "  waterfront  view  condition  ... sqft_basement  yr_built  yr_renovated  \\\n",
       "0         NO  NONE    Average  ...           0.0      1955           0.0   \n",
       "1         NO  NONE    Average  ...         400.0      1951        1991.0   \n",
       "2         NO  NONE    Average  ...           0.0      1933           0.0   \n",
       "3         NO  NONE  Very Good  ...         910.0      1965           0.0   \n",
       "4         NO  NONE    Average  ...           0.0      1987           0.0   \n",
       "\n",
       "   zipcode      lat     long  sqft_living15  sqft_lot15  region  in_sea  \n",
       "0    98178  47.5112 -122.257           1340        5650   South     YES  \n",
       "1    98125  47.7210 -122.319           1690        7639   North     YES  \n",
       "2    98028  47.7379 -122.233           2720        8062   North      NO  \n",
       "3    98136  47.5208 -122.393           1360        5000    West     YES  \n",
       "4    98074  47.6168 -122.045           1800        7503   North      NO  \n",
       "\n",
       "[5 rows x 22 columns]"
      ]
     },
     "execution_count": 25,
     "metadata": {},
     "output_type": "execute_result"
    }
   ],
   "source": [
    "df['region'] = region_append_list # create columns for our new features\n",
    "df['in_sea'] = region_append_list2\n",
    "df.head()"
   ]
  },
  {
   "cell_type": "markdown",
   "metadata": {},
   "source": [
    "### OneHotEncode our categorical values <a class=\"anchor\" id=\"4\"></a>"
   ]
  },
  {
   "cell_type": "markdown",
   "metadata": {},
   "source": [
    "We should check the status of our columns"
   ]
  },
  {
   "cell_type": "code",
   "execution_count": 26,
   "metadata": {},
   "outputs": [
    {
     "name": "stdout",
     "output_type": "stream",
     "text": [
      "NONE         19079\n",
      "AVERAGE        930\n",
      "GOOD           496\n",
      "FAIR           327\n",
      "EXCELLENT      311\n",
      "Name: view, dtype: int64\n",
      "Average      13726\n",
      "Good          5557\n",
      "Very Good     1666\n",
      "Fair           166\n",
      "Poor            28\n",
      "Name: condition, dtype: int64\n",
      "7 Average        8788\n",
      "8 Good           5933\n",
      "9 Better         2557\n",
      "6 Low Average    1997\n",
      "10 Very Good     1112\n",
      "11 Excellent      391\n",
      "5 Fair            235\n",
      "12 Luxury          89\n",
      "4 Low              27\n",
      "13 Mansion         13\n",
      "3 Poor              1\n",
      "Name: grade, dtype: int64\n",
      "NO     21001\n",
      "YES      142\n",
      "Name: waterfront, dtype: int64\n",
      "North    7581\n",
      "South    5775\n",
      "West     5090\n",
      "East     2697\n",
      "Name: region, dtype: int64\n",
      "NO     12259\n",
      "YES     8884\n",
      "Name: in_sea, dtype: int64\n"
     ]
    }
   ],
   "source": [
    "print(df['view'].value_counts())\n",
    "print(df['condition'].value_counts())\n",
    "print(df['grade'].value_counts())\n",
    "print(df['waterfront'].value_counts())\n",
    "print(df['region'].value_counts())\n",
    "print(df['in_sea'].value_counts())"
   ]
  },
  {
   "cell_type": "markdown",
   "metadata": {},
   "source": [
    "Because our data is both ranked and categorical, we will need to use OrdinalEncode and OneHotEncode"
   ]
  },
  {
   "cell_type": "code",
   "execution_count": 27,
   "metadata": {},
   "outputs": [],
   "source": [
    "df_enc = df.copy() # initialize new dataframe to work with\n",
    "oe = OrdinalEncoder() # initialize OE\n",
    "ohe = OneHotEncoder(sparse=False) # initialize OHE\n",
    "\n",
    "df_enc['view'] = oe.fit_transform(df_enc[['view']]) # ordinally encode our view data\n",
    "df_enc['condition'] = oe.fit_transform(df_enc[['condition']]) # ordinally encode our condition data\n",
    "df_enc['grade'] = oe.fit_transform(df_enc[['grade']]) # ordinally encode our grade data\n",
    "df_enc['region'] = oe.fit_transform(df_enc[['region']]) # ordinally encode our region data\n",
    "df_enc['waterfront'] = ohe.fit_transform(df_enc[['waterfront']]) # onehotencode our waterfront data\n",
    "df_enc['in_sea'] = ohe.fit_transform(df_enc[['in_sea']]) # onehotencode our waterfront data"
   ]
  },
  {
   "cell_type": "code",
   "execution_count": 28,
   "metadata": {
    "scrolled": false
   },
   "outputs": [
    {
     "name": "stdout",
     "output_type": "stream",
     "text": [
      "4.0    19079\n",
      "0.0      930\n",
      "3.0      496\n",
      "2.0      327\n",
      "1.0      311\n",
      "Name: view, dtype: int64\n",
      "0.0    13726\n",
      "2.0     5557\n",
      "4.0     1666\n",
      "1.0      166\n",
      "3.0       28\n",
      "Name: condition, dtype: int64\n",
      "8.0     8788\n",
      "9.0     5933\n",
      "10.0    2557\n",
      "7.0     1997\n",
      "0.0     1112\n",
      "1.0      391\n",
      "6.0      235\n",
      "2.0       89\n",
      "5.0       27\n",
      "3.0       13\n",
      "4.0        1\n",
      "Name: grade, dtype: int64\n",
      "1.0    21001\n",
      "0.0      142\n",
      "Name: waterfront, dtype: int64\n",
      "1.0    7581\n",
      "2.0    5775\n",
      "3.0    5090\n",
      "0.0    2697\n",
      "Name: region, dtype: int64\n",
      "1.0    12259\n",
      "0.0     8884\n",
      "Name: in_sea, dtype: int64\n"
     ]
    }
   ],
   "source": [
    "print(df_enc.view.value_counts()) # print out newly encoded categories\n",
    "print(df_enc.condition.value_counts())\n",
    "print(df_enc.grade.value_counts())\n",
    "print(df_enc.waterfront.value_counts())\n",
    "print(df_enc.region.value_counts())\n",
    "print(df_enc.in_sea.value_counts())"
   ]
  },
  {
   "cell_type": "markdown",
   "metadata": {},
   "source": [
    "Now all of our categorical data is represented numerically and can be included in our model!"
   ]
  },
  {
   "cell_type": "code",
   "execution_count": 29,
   "metadata": {},
   "outputs": [
    {
     "name": "stdout",
     "output_type": "stream",
     "text": [
      "<class 'pandas.core.frame.DataFrame'>\n",
      "Int64Index: 21143 entries, 0 to 21596\n",
      "Data columns (total 22 columns):\n",
      " #   Column         Non-Null Count  Dtype  \n",
      "---  ------         --------------  -----  \n",
      " 0   date           21143 non-null  int64  \n",
      " 1   price          21143 non-null  float64\n",
      " 2   bedrooms       21143 non-null  int64  \n",
      " 3   bathrooms      21143 non-null  float64\n",
      " 4   sqft_living    21143 non-null  int64  \n",
      " 5   sqft_lot       21143 non-null  int64  \n",
      " 6   floors         21143 non-null  float64\n",
      " 7   waterfront     21143 non-null  float64\n",
      " 8   view           21143 non-null  float64\n",
      " 9   condition      21143 non-null  float64\n",
      " 10  grade          21143 non-null  float64\n",
      " 11  sqft_above     21143 non-null  int64  \n",
      " 12  sqft_basement  21143 non-null  float64\n",
      " 13  yr_built       21143 non-null  int64  \n",
      " 14  yr_renovated   21143 non-null  float64\n",
      " 15  zipcode        21143 non-null  int64  \n",
      " 16  lat            21143 non-null  float64\n",
      " 17  long           21143 non-null  float64\n",
      " 18  sqft_living15  21143 non-null  int64  \n",
      " 19  sqft_lot15     21143 non-null  int64  \n",
      " 20  region         21143 non-null  float64\n",
      " 21  in_sea         21143 non-null  float64\n",
      "dtypes: float64(13), int64(9)\n",
      "memory usage: 3.7 MB\n"
     ]
    }
   ],
   "source": [
    "df_enc.info() # confirm our encoding was successful"
   ]
  },
  {
   "cell_type": "markdown",
   "metadata": {},
   "source": [
    "---\n",
    "### SUCCESS! Now we have a clean dataset to work with\n",
    "\n",
    "---"
   ]
  },
  {
   "cell_type": "markdown",
   "metadata": {},
   "source": [
    "### Finding our features <a class=\"anchor\" id=\"5\"></a>"
   ]
  },
  {
   "cell_type": "code",
   "execution_count": 30,
   "metadata": {
    "scrolled": false
   },
   "outputs": [
    {
     "data": {
      "text/plain": [
       "''"
      ]
     },
     "execution_count": 30,
     "metadata": {},
     "output_type": "execute_result"
    },
    {
     "data": {
      "image/png": "[encoded data removed]",
      "text/plain": [
       "<Figure size 1080x792 with 2 Axes>"
      ]
     },
     "metadata": {},
     "output_type": "display_data"
    }
   ],
   "source": [
    "sns.set(rc={'figure.figsize':(15, 11)})\n",
    "sns.heatmap(df_enc.corr().abs(), cmap=\"YlGnBu\", linewidths=.5) # run a heatmap to detect possible collinearity\n",
    ";"
   ]
  },
  {
   "cell_type": "markdown",
   "metadata": {},
   "source": [
    "There are some areas of interest and possible multicollinearity in several of our columns, indicated by the darker regions on the above heatmap. Date appears to have almost no collinearity at all, suggesting no real significant impact on a houses price."
   ]
  },
  {
   "cell_type": "code",
   "execution_count": 31,
   "metadata": {},
   "outputs": [
    {
     "data": {
      "text/html": [
       "<div>\n",
       "<style scoped>\n",
       "    .dataframe tbody tr th:only-of-type {\n",
       "        vertical-align: middle;\n",
       "    }\n",
       "\n",
       "    .dataframe tbody tr th {\n",
       "        vertical-align: top;\n",
       "    }\n",
       "\n",
       "    .dataframe thead th {\n",
       "        text-align: right;\n",
       "    }\n",
       "</style>\n",
       "<table border=\"1\" class=\"dataframe\">\n",
       "  <thead>\n",
       "    <tr style=\"text-align: right;\">\n",
       "      <th></th>\n",
       "      <th>date</th>\n",
       "      <th>price</th>\n",
       "      <th>bedrooms</th>\n",
       "      <th>bathrooms</th>\n",
       "      <th>sqft_living</th>\n",
       "      <th>sqft_lot</th>\n",
       "      <th>floors</th>\n",
       "      <th>waterfront</th>\n",
       "      <th>view</th>\n",
       "      <th>condition</th>\n",
       "      <th>...</th>\n",
       "      <th>sqft_basement</th>\n",
       "      <th>yr_built</th>\n",
       "      <th>yr_renovated</th>\n",
       "      <th>zipcode</th>\n",
       "      <th>lat</th>\n",
       "      <th>long</th>\n",
       "      <th>sqft_living15</th>\n",
       "      <th>sqft_lot15</th>\n",
       "      <th>region</th>\n",
       "      <th>in_sea</th>\n",
       "    </tr>\n",
       "  </thead>\n",
       "  <tbody>\n",
       "    <tr>\n",
       "      <th>count</th>\n",
       "      <td>21143.000000</td>\n",
       "      <td>2.114300e+04</td>\n",
       "      <td>21143.000000</td>\n",
       "      <td>21143.000000</td>\n",
       "      <td>21143.000000</td>\n",
       "      <td>2.114300e+04</td>\n",
       "      <td>21143.000000</td>\n",
       "      <td>21143.000000</td>\n",
       "      <td>21143.000000</td>\n",
       "      <td>21143.000000</td>\n",
       "      <td>...</td>\n",
       "      <td>21143.000000</td>\n",
       "      <td>21143.000000</td>\n",
       "      <td>21143.000000</td>\n",
       "      <td>21143.000000</td>\n",
       "      <td>21143.000000</td>\n",
       "      <td>21143.000000</td>\n",
       "      <td>21143.00000</td>\n",
       "      <td>21143.000000</td>\n",
       "      <td>21143.000000</td>\n",
       "      <td>21143.000000</td>\n",
       "    </tr>\n",
       "    <tr>\n",
       "      <th>mean</th>\n",
       "      <td>2014.323417</td>\n",
       "      <td>5.405107e+05</td>\n",
       "      <td>3.372558</td>\n",
       "      <td>2.116079</td>\n",
       "      <td>2080.920730</td>\n",
       "      <td>1.508714e+04</td>\n",
       "      <td>1.493591</td>\n",
       "      <td>0.993284</td>\n",
       "      <td>3.725536</td>\n",
       "      <td>0.852670</td>\n",
       "      <td>...</td>\n",
       "      <td>291.851724</td>\n",
       "      <td>1971.023223</td>\n",
       "      <td>68.256492</td>\n",
       "      <td>98077.868893</td>\n",
       "      <td>47.560274</td>\n",
       "      <td>-122.213876</td>\n",
       "      <td>1987.27139</td>\n",
       "      <td>12738.941967</td>\n",
       "      <td>1.627063</td>\n",
       "      <td>0.579814</td>\n",
       "    </tr>\n",
       "    <tr>\n",
       "      <th>std</th>\n",
       "      <td>0.467791</td>\n",
       "      <td>3.680751e+05</td>\n",
       "      <td>0.924917</td>\n",
       "      <td>0.768531</td>\n",
       "      <td>918.547562</td>\n",
       "      <td>4.120920e+04</td>\n",
       "      <td>0.539249</td>\n",
       "      <td>0.081679</td>\n",
       "      <td>0.919889</td>\n",
       "      <td>1.266833</td>\n",
       "      <td>...</td>\n",
       "      <td>442.498337</td>\n",
       "      <td>29.321938</td>\n",
       "      <td>362.765827</td>\n",
       "      <td>53.535756</td>\n",
       "      <td>0.138591</td>\n",
       "      <td>0.140597</td>\n",
       "      <td>685.67034</td>\n",
       "      <td>27169.273663</td>\n",
       "      <td>0.985142</td>\n",
       "      <td>0.493600</td>\n",
       "    </tr>\n",
       "    <tr>\n",
       "      <th>min</th>\n",
       "      <td>2014.000000</td>\n",
       "      <td>7.800000e+04</td>\n",
       "      <td>1.000000</td>\n",
       "      <td>0.500000</td>\n",
       "      <td>370.000000</td>\n",
       "      <td>5.200000e+02</td>\n",
       "      <td>1.000000</td>\n",
       "      <td>0.000000</td>\n",
       "      <td>0.000000</td>\n",
       "      <td>0.000000</td>\n",
       "      <td>...</td>\n",
       "      <td>0.000000</td>\n",
       "      <td>1900.000000</td>\n",
       "      <td>0.000000</td>\n",
       "      <td>98001.000000</td>\n",
       "      <td>47.155900</td>\n",
       "      <td>-122.519000</td>\n",
       "      <td>399.00000</td>\n",
       "      <td>651.000000</td>\n",
       "      <td>0.000000</td>\n",
       "      <td>0.000000</td>\n",
       "    </tr>\n",
       "    <tr>\n",
       "      <th>25%</th>\n",
       "      <td>2014.000000</td>\n",
       "      <td>3.220000e+05</td>\n",
       "      <td>3.000000</td>\n",
       "      <td>1.750000</td>\n",
       "      <td>1430.000000</td>\n",
       "      <td>5.043000e+03</td>\n",
       "      <td>1.000000</td>\n",
       "      <td>1.000000</td>\n",
       "      <td>4.000000</td>\n",
       "      <td>0.000000</td>\n",
       "      <td>...</td>\n",
       "      <td>0.000000</td>\n",
       "      <td>1952.000000</td>\n",
       "      <td>0.000000</td>\n",
       "      <td>98033.000000</td>\n",
       "      <td>47.471250</td>\n",
       "      <td>-122.328000</td>\n",
       "      <td>1490.00000</td>\n",
       "      <td>5100.000000</td>\n",
       "      <td>1.000000</td>\n",
       "      <td>0.000000</td>\n",
       "    </tr>\n",
       "    <tr>\n",
       "      <th>50%</th>\n",
       "      <td>2014.000000</td>\n",
       "      <td>4.500000e+05</td>\n",
       "      <td>3.000000</td>\n",
       "      <td>2.250000</td>\n",
       "      <td>1910.000000</td>\n",
       "      <td>7.620000e+03</td>\n",
       "      <td>1.500000</td>\n",
       "      <td>1.000000</td>\n",
       "      <td>4.000000</td>\n",
       "      <td>0.000000</td>\n",
       "      <td>...</td>\n",
       "      <td>0.000000</td>\n",
       "      <td>1975.000000</td>\n",
       "      <td>0.000000</td>\n",
       "      <td>98065.000000</td>\n",
       "      <td>47.572000</td>\n",
       "      <td>-122.230000</td>\n",
       "      <td>1840.00000</td>\n",
       "      <td>7626.000000</td>\n",
       "      <td>2.000000</td>\n",
       "      <td>1.000000</td>\n",
       "    </tr>\n",
       "    <tr>\n",
       "      <th>75%</th>\n",
       "      <td>2015.000000</td>\n",
       "      <td>6.450000e+05</td>\n",
       "      <td>4.000000</td>\n",
       "      <td>2.500000</td>\n",
       "      <td>2550.000000</td>\n",
       "      <td>1.069550e+04</td>\n",
       "      <td>2.000000</td>\n",
       "      <td>1.000000</td>\n",
       "      <td>4.000000</td>\n",
       "      <td>2.000000</td>\n",
       "      <td>...</td>\n",
       "      <td>560.000000</td>\n",
       "      <td>1997.000000</td>\n",
       "      <td>0.000000</td>\n",
       "      <td>98117.000000</td>\n",
       "      <td>47.678200</td>\n",
       "      <td>-122.125000</td>\n",
       "      <td>2360.00000</td>\n",
       "      <td>10087.000000</td>\n",
       "      <td>2.000000</td>\n",
       "      <td>1.000000</td>\n",
       "    </tr>\n",
       "    <tr>\n",
       "      <th>max</th>\n",
       "      <td>2015.000000</td>\n",
       "      <td>7.700000e+06</td>\n",
       "      <td>33.000000</td>\n",
       "      <td>8.000000</td>\n",
       "      <td>13540.000000</td>\n",
       "      <td>1.651359e+06</td>\n",
       "      <td>3.500000</td>\n",
       "      <td>1.000000</td>\n",
       "      <td>4.000000</td>\n",
       "      <td>4.000000</td>\n",
       "      <td>...</td>\n",
       "      <td>4820.000000</td>\n",
       "      <td>2015.000000</td>\n",
       "      <td>2015.000000</td>\n",
       "      <td>98199.000000</td>\n",
       "      <td>47.777600</td>\n",
       "      <td>-121.315000</td>\n",
       "      <td>6210.00000</td>\n",
       "      <td>871200.000000</td>\n",
       "      <td>3.000000</td>\n",
       "      <td>1.000000</td>\n",
       "    </tr>\n",
       "  </tbody>\n",
       "</table>\n",
       "<p>8 rows × 22 columns</p>\n",
       "</div>"
      ],
      "text/plain": [
       "               date         price      bedrooms     bathrooms   sqft_living  \\\n",
       "count  21143.000000  2.114300e+04  21143.000000  21143.000000  21143.000000   \n",
       "mean    2014.323417  5.405107e+05      3.372558      2.116079   2080.920730   \n",
       "std        0.467791  3.680751e+05      0.924917      0.768531    918.547562   \n",
       "min     2014.000000  7.800000e+04      1.000000      0.500000    370.000000   \n",
       "25%     2014.000000  3.220000e+05      3.000000      1.750000   1430.000000   \n",
       "50%     2014.000000  4.500000e+05      3.000000      2.250000   1910.000000   \n",
       "75%     2015.000000  6.450000e+05      4.000000      2.500000   2550.000000   \n",
       "max     2015.000000  7.700000e+06     33.000000      8.000000  13540.000000   \n",
       "\n",
       "           sqft_lot        floors    waterfront          view     condition  \\\n",
       "count  2.114300e+04  21143.000000  21143.000000  21143.000000  21143.000000   \n",
       "mean   1.508714e+04      1.493591      0.993284      3.725536      0.852670   \n",
       "std    4.120920e+04      0.539249      0.081679      0.919889      1.266833   \n",
       "min    5.200000e+02      1.000000      0.000000      0.000000      0.000000   \n",
       "25%    5.043000e+03      1.000000      1.000000      4.000000      0.000000   \n",
       "50%    7.620000e+03      1.500000      1.000000      4.000000      0.000000   \n",
       "75%    1.069550e+04      2.000000      1.000000      4.000000      2.000000   \n",
       "max    1.651359e+06      3.500000      1.000000      4.000000      4.000000   \n",
       "\n",
       "       ...  sqft_basement      yr_built  yr_renovated       zipcode  \\\n",
       "count  ...   21143.000000  21143.000000  21143.000000  21143.000000   \n",
       "mean   ...     291.851724   1971.023223     68.256492  98077.868893   \n",
       "std    ...     442.498337     29.321938    362.765827     53.535756   \n",
       "min    ...       0.000000   1900.000000      0.000000  98001.000000   \n",
       "25%    ...       0.000000   1952.000000      0.000000  98033.000000   \n",
       "50%    ...       0.000000   1975.000000      0.000000  98065.000000   \n",
       "75%    ...     560.000000   1997.000000      0.000000  98117.000000   \n",
       "max    ...    4820.000000   2015.000000   2015.000000  98199.000000   \n",
       "\n",
       "                lat          long  sqft_living15     sqft_lot15        region  \\\n",
       "count  21143.000000  21143.000000    21143.00000   21143.000000  21143.000000   \n",
       "mean      47.560274   -122.213876     1987.27139   12738.941967      1.627063   \n",
       "std        0.138591      0.140597      685.67034   27169.273663      0.985142   \n",
       "min       47.155900   -122.519000      399.00000     651.000000      0.000000   \n",
       "25%       47.471250   -122.328000     1490.00000    5100.000000      1.000000   \n",
       "50%       47.572000   -122.230000     1840.00000    7626.000000      2.000000   \n",
       "75%       47.678200   -122.125000     2360.00000   10087.000000      2.000000   \n",
       "max       47.777600   -121.315000     6210.00000  871200.000000      3.000000   \n",
       "\n",
       "             in_sea  \n",
       "count  21143.000000  \n",
       "mean       0.579814  \n",
       "std        0.493600  \n",
       "min        0.000000  \n",
       "25%        0.000000  \n",
       "50%        1.000000  \n",
       "75%        1.000000  \n",
       "max        1.000000  \n",
       "\n",
       "[8 rows x 22 columns]"
      ]
     },
     "execution_count": 31,
     "metadata": {},
     "output_type": "execute_result"
    }
   ],
   "source": [
    "df_enc.describe() # scan our new data for outliers"
   ]
  },
  {
   "cell_type": "code",
   "execution_count": 32,
   "metadata": {},
   "outputs": [
    {
     "data": {
      "text/plain": [
       "15856    33\n",
       "8748     11\n",
       "15147    10\n",
       "19239    10\n",
       "13301    10\n",
       "Name: bedrooms, dtype: int64"
      ]
     },
     "execution_count": 32,
     "metadata": {},
     "output_type": "execute_result"
    }
   ],
   "source": [
    "# one of our houses appears to have 33 bedrooms, since this is a relevant column for our holders let's look into that\n",
    "df_enc['bedrooms'].sort_values(ascending = False).head()"
   ]
  },
  {
   "cell_type": "code",
   "execution_count": 33,
   "metadata": {},
   "outputs": [
    {
     "data": {
      "text/html": [
       "<div>\n",
       "<style scoped>\n",
       "    .dataframe tbody tr th:only-of-type {\n",
       "        vertical-align: middle;\n",
       "    }\n",
       "\n",
       "    .dataframe tbody tr th {\n",
       "        vertical-align: top;\n",
       "    }\n",
       "\n",
       "    .dataframe thead th {\n",
       "        text-align: right;\n",
       "    }\n",
       "</style>\n",
       "<table border=\"1\" class=\"dataframe\">\n",
       "  <thead>\n",
       "    <tr style=\"text-align: right;\">\n",
       "      <th></th>\n",
       "      <th>date</th>\n",
       "      <th>price</th>\n",
       "      <th>bedrooms</th>\n",
       "      <th>bathrooms</th>\n",
       "      <th>sqft_living</th>\n",
       "      <th>sqft_lot</th>\n",
       "      <th>floors</th>\n",
       "      <th>waterfront</th>\n",
       "      <th>view</th>\n",
       "      <th>condition</th>\n",
       "      <th>...</th>\n",
       "      <th>sqft_basement</th>\n",
       "      <th>yr_built</th>\n",
       "      <th>yr_renovated</th>\n",
       "      <th>zipcode</th>\n",
       "      <th>lat</th>\n",
       "      <th>long</th>\n",
       "      <th>sqft_living15</th>\n",
       "      <th>sqft_lot15</th>\n",
       "      <th>region</th>\n",
       "      <th>in_sea</th>\n",
       "    </tr>\n",
       "  </thead>\n",
       "  <tbody>\n",
       "    <tr>\n",
       "      <th>15856</th>\n",
       "      <td>2014</td>\n",
       "      <td>640000.0</td>\n",
       "      <td>33</td>\n",
       "      <td>1.75</td>\n",
       "      <td>1620</td>\n",
       "      <td>6000</td>\n",
       "      <td>1.0</td>\n",
       "      <td>1.0</td>\n",
       "      <td>4.0</td>\n",
       "      <td>4.0</td>\n",
       "      <td>...</td>\n",
       "      <td>580.0</td>\n",
       "      <td>1947</td>\n",
       "      <td>0.0</td>\n",
       "      <td>98103</td>\n",
       "      <td>47.6878</td>\n",
       "      <td>-122.331</td>\n",
       "      <td>1330</td>\n",
       "      <td>4700</td>\n",
       "      <td>1.0</td>\n",
       "      <td>0.0</td>\n",
       "    </tr>\n",
       "  </tbody>\n",
       "</table>\n",
       "<p>1 rows × 22 columns</p>\n",
       "</div>"
      ],
      "text/plain": [
       "       date     price  bedrooms  bathrooms  sqft_living  sqft_lot  floors  \\\n",
       "15856  2014  640000.0        33       1.75         1620      6000     1.0   \n",
       "\n",
       "       waterfront  view  condition  ...  sqft_basement  yr_built  \\\n",
       "15856         1.0   4.0        4.0  ...          580.0      1947   \n",
       "\n",
       "       yr_renovated  zipcode      lat     long  sqft_living15  sqft_lot15  \\\n",
       "15856           0.0    98103  47.6878 -122.331           1330        4700   \n",
       "\n",
       "       region  in_sea  \n",
       "15856     1.0     0.0  \n",
       "\n",
       "[1 rows x 22 columns]"
      ]
     },
     "execution_count": 33,
     "metadata": {},
     "output_type": "execute_result"
    }
   ],
   "source": [
    "df_enc.loc[[15856]] # inspect our first outlier"
   ]
  },
  {
   "cell_type": "markdown",
   "metadata": {},
   "source": [
    "The amount of bedrooms appears to betray the square footing on this property. The others at 11 and 10 make sense due to the wealthiness of this counties inhabitants."
   ]
  },
  {
   "cell_type": "code",
   "execution_count": 34,
   "metadata": {},
   "outputs": [],
   "source": [
    "# it would seem safe to drop our highest outlier in this case\n",
    "df_enc = df_enc[df_enc.bedrooms <= 11] # drop the outlier row"
   ]
  },
  {
   "cell_type": "markdown",
   "metadata": {},
   "source": [
    "For the purpose of our stakeholder's needs, we will select 'sqft_living', 'bathrooms','sqft_above', 'bedrooms', 'grade', and our own 'region' column, as they are very relevant features of a new house when looking to build, and they show a decent level of multicollinearity with the price of houses."
   ]
  },
  {
   "cell_type": "markdown",
   "metadata": {},
   "source": [
    "### Train Test Split <a class=\"anchor\" id=\"7\"></a>"
   ]
  },
  {
   "cell_type": "code",
   "execution_count": 35,
   "metadata": {},
   "outputs": [],
   "source": [
    "# set both variables for our TT split\n",
    "X = df_enc.copy().drop(columns='price')\n",
    "y = df_enc['price']\n",
    "\n",
    "# perform TT split\n",
    "X_train, X_test, y_train, y_test = train_test_split(X, y, test_size=0.2, random_state=42)"
   ]
  },
  {
   "cell_type": "markdown",
   "metadata": {},
   "source": [
    "### Scaling"
   ]
  },
  {
   "cell_type": "code",
   "execution_count": 36,
   "metadata": {},
   "outputs": [],
   "source": [
    "ss = StandardScaler() # initialize scaler\n",
    "ss.fit(X_train) # fit the scaler\n",
    "\n",
    "#transform both the train and test and set them as objects\n",
    "X_train_scale = ss.transform(X_train)\n",
    "X_test_scale = ss.transform(X_test)"
   ]
  },
  {
   "cell_type": "code",
   "execution_count": 37,
   "metadata": {},
   "outputs": [],
   "source": [
    "X_train_scale = pd.DataFrame(X_train_scale) # Turn our scaled data into a pandas dataframe\n",
    "X_train_scale.columns = df.drop('price', axis=1).columns # keep our original columns\n",
    "y_train.reset_index(drop=True, inplace=True) # make sure our indexes line up"
   ]
  },
  {
   "cell_type": "code",
   "execution_count": 38,
   "metadata": {},
   "outputs": [],
   "source": [
    "# now do the same for our test data\n",
    "X_test_scale = pd.DataFrame(X_test_scale)\n",
    "X_test_scale.columns = df.drop('price', axis=1).columns\n",
    "y_test.reset_index(drop=True, inplace=True)"
   ]
  },
  {
   "cell_type": "code",
   "execution_count": 39,
   "metadata": {},
   "outputs": [],
   "source": [
    "# and get our unscaled data as well\n",
    "X_train.reset_index(drop=True,inplace=True)"
   ]
  },
  {
   "cell_type": "code",
   "execution_count": 40,
   "metadata": {},
   "outputs": [],
   "source": [
    "df_train_scale = pd.concat([X_train_scale, y_train], axis=1) # join both train and test into respective dataframes\n",
    "df_test_scale = pd.concat([X_test_scale, y_test], axis=1)    # keeping our dependent variable (price)\n",
    "X_train_final = pd.concat((X_train,y_train),axis=1)"
   ]
  },
  {
   "cell_type": "markdown",
   "metadata": {},
   "source": [
    "### Making Base Model"
   ]
  },
  {
   "cell_type": "code",
   "execution_count": 41,
   "metadata": {},
   "outputs": [
    {
     "data": {
      "text/plain": [
       "DummyRegressor(constant=540631.1560929463)"
      ]
     },
     "execution_count": 41,
     "metadata": {},
     "output_type": "execute_result"
    }
   ],
   "source": [
    "model1 = DummyRegressor(strategy='mean', constant=df_train_scale['price'].mean()) # get a dummy prediction mean\n",
    "\n",
    "model1"
   ]
  },
  {
   "cell_type": "markdown",
   "metadata": {},
   "source": [
    "Our Predicted average for price of a house in King County is $540,708, which is a good starting point. Now let's run an OLS model on the columns we determined earlier were most important for our train data."
   ]
  },
  {
   "cell_type": "code",
   "execution_count": 42,
   "metadata": {},
   "outputs": [
    {
     "data": {
      "text/html": [
       "<table class=\"simpletable\">\n",
       "<caption>OLS Regression Results</caption>\n",
       "<tr>\n",
       "  <th>Dep. Variable:</th>          <td>price</td>      <th>  R-squared:         </th>  <td>   0.534</td>  \n",
       "</tr>\n",
       "<tr>\n",
       "  <th>Model:</th>                   <td>OLS</td>       <th>  Adj. R-squared:    </th>  <td>   0.533</td>  \n",
       "</tr>\n",
       "<tr>\n",
       "  <th>Method:</th>             <td>Least Squares</td>  <th>  F-statistic:       </th>  <td>   3868.</td>  \n",
       "</tr>\n",
       "<tr>\n",
       "  <th>Date:</th>             <td>Sun, 20 Feb 2022</td> <th>  Prob (F-statistic):</th>   <td>  0.00</td>   \n",
       "</tr>\n",
       "<tr>\n",
       "  <th>Time:</th>                 <td>20:23:56</td>     <th>  Log-Likelihood:    </th> <td>-2.3434e+05</td>\n",
       "</tr>\n",
       "<tr>\n",
       "  <th>No. Observations:</th>      <td> 16913</td>      <th>  AIC:               </th>  <td>4.687e+05</td> \n",
       "</tr>\n",
       "<tr>\n",
       "  <th>Df Residuals:</th>          <td> 16907</td>      <th>  BIC:               </th>  <td>4.687e+05</td> \n",
       "</tr>\n",
       "<tr>\n",
       "  <th>Df Model:</th>              <td>     5</td>      <th>                     </th>      <td> </td>     \n",
       "</tr>\n",
       "<tr>\n",
       "  <th>Covariance Type:</th>      <td>nonrobust</td>    <th>                     </th>      <td> </td>     \n",
       "</tr>\n",
       "</table>\n",
       "<table class=\"simpletable\">\n",
       "<tr>\n",
       "       <td></td>          <th>coef</th>     <th>std err</th>      <th>t</th>      <th>P>|t|</th>  <th>[0.025</th>    <th>0.975]</th>  \n",
       "</tr>\n",
       "<tr>\n",
       "  <th>Intercept</th>   <td> 5.406e+05</td> <td> 1937.615</td> <td>  279.019</td> <td> 0.000</td> <td> 5.37e+05</td> <td> 5.44e+05</td>\n",
       "</tr>\n",
       "<tr>\n",
       "  <th>bathrooms</th>   <td> 1.473e+04</td> <td> 3031.333</td> <td>    4.858</td> <td> 0.000</td> <td> 8785.302</td> <td> 2.07e+04</td>\n",
       "</tr>\n",
       "<tr>\n",
       "  <th>bedrooms</th>    <td>-5.065e+04</td> <td> 2478.386</td> <td>  -20.435</td> <td> 0.000</td> <td>-5.55e+04</td> <td>-4.58e+04</td>\n",
       "</tr>\n",
       "<tr>\n",
       "  <th>sqft_living</th> <td> 2.922e+05</td> <td> 4751.820</td> <td>   61.494</td> <td> 0.000</td> <td> 2.83e+05</td> <td> 3.02e+05</td>\n",
       "</tr>\n",
       "<tr>\n",
       "  <th>sqft_above</th>  <td>-3.614e+04</td> <td> 4071.605</td> <td>   -8.877</td> <td> 0.000</td> <td>-4.41e+04</td> <td>-2.82e+04</td>\n",
       "</tr>\n",
       "<tr>\n",
       "  <th>grade</th>       <td>-5.671e+04</td> <td> 2090.380</td> <td>  -27.130</td> <td> 0.000</td> <td>-6.08e+04</td> <td>-5.26e+04</td>\n",
       "</tr>\n",
       "</table>\n",
       "<table class=\"simpletable\">\n",
       "<tr>\n",
       "  <th>Omnibus:</th>       <td>10909.917</td> <th>  Durbin-Watson:     </th>  <td>   2.013</td> \n",
       "</tr>\n",
       "<tr>\n",
       "  <th>Prob(Omnibus):</th>  <td> 0.000</td>   <th>  Jarque-Bera (JB):  </th> <td>370407.441</td>\n",
       "</tr>\n",
       "<tr>\n",
       "  <th>Skew:</th>           <td> 2.594</td>   <th>  Prob(JB):          </th>  <td>    0.00</td> \n",
       "</tr>\n",
       "<tr>\n",
       "  <th>Kurtosis:</th>       <td>25.332</td>   <th>  Cond. No.          </th>  <td>    5.34</td> \n",
       "</tr>\n",
       "</table><br/><br/>Notes:<br/>[1] Standard Errors assume that the covariance matrix of the errors is correctly specified."
      ],
      "text/plain": [
       "<class 'statsmodels.iolib.summary.Summary'>\n",
       "\"\"\"\n",
       "                            OLS Regression Results                            \n",
       "==============================================================================\n",
       "Dep. Variable:                  price   R-squared:                       0.534\n",
       "Model:                            OLS   Adj. R-squared:                  0.533\n",
       "Method:                 Least Squares   F-statistic:                     3868.\n",
       "Date:                Sun, 20 Feb 2022   Prob (F-statistic):               0.00\n",
       "Time:                        20:23:56   Log-Likelihood:            -2.3434e+05\n",
       "No. Observations:               16913   AIC:                         4.687e+05\n",
       "Df Residuals:                   16907   BIC:                         4.687e+05\n",
       "Df Model:                           5                                         \n",
       "Covariance Type:            nonrobust                                         \n",
       "===============================================================================\n",
       "                  coef    std err          t      P>|t|      [0.025      0.975]\n",
       "-------------------------------------------------------------------------------\n",
       "Intercept    5.406e+05   1937.615    279.019      0.000    5.37e+05    5.44e+05\n",
       "bathrooms    1.473e+04   3031.333      4.858      0.000    8785.302    2.07e+04\n",
       "bedrooms    -5.065e+04   2478.386    -20.435      0.000   -5.55e+04   -4.58e+04\n",
       "sqft_living  2.922e+05   4751.820     61.494      0.000    2.83e+05    3.02e+05\n",
       "sqft_above  -3.614e+04   4071.605     -8.877      0.000   -4.41e+04   -2.82e+04\n",
       "grade       -5.671e+04   2090.380    -27.130      0.000   -6.08e+04   -5.26e+04\n",
       "==============================================================================\n",
       "Omnibus:                    10909.917   Durbin-Watson:                   2.013\n",
       "Prob(Omnibus):                  0.000   Jarque-Bera (JB):           370407.441\n",
       "Skew:                           2.594   Prob(JB):                         0.00\n",
       "Kurtosis:                      25.332   Cond. No.                         5.34\n",
       "==============================================================================\n",
       "\n",
       "Notes:\n",
       "[1] Standard Errors assume that the covariance matrix of the errors is correctly specified.\n",
       "\"\"\""
      ]
     },
     "execution_count": 42,
     "metadata": {},
     "output_type": "execute_result"
    }
   ],
   "source": [
    "formula = f'price ~ bathrooms+bedrooms+sqft_living+sqft_above+grade' # initialize our formula\n",
    "model = ols(formula,df_train_scale).fit() # run an ols on our trained data and fit\n",
    "model.summary()"
   ]
  },
  {
   "cell_type": "markdown",
   "metadata": {},
   "source": [
    "And for our test data"
   ]
  },
  {
   "cell_type": "code",
   "execution_count": 43,
   "metadata": {},
   "outputs": [
    {
     "data": {
      "text/html": [
       "<table class=\"simpletable\">\n",
       "<caption>OLS Regression Results</caption>\n",
       "<tr>\n",
       "  <th>Dep. Variable:</th>          <td>price</td>      <th>  R-squared:         </th> <td>   0.511</td> \n",
       "</tr>\n",
       "<tr>\n",
       "  <th>Model:</th>                   <td>OLS</td>       <th>  Adj. R-squared:    </th> <td>   0.510</td> \n",
       "</tr>\n",
       "<tr>\n",
       "  <th>Method:</th>             <td>Least Squares</td>  <th>  F-statistic:       </th> <td>   882.7</td> \n",
       "</tr>\n",
       "<tr>\n",
       "  <th>Date:</th>             <td>Sun, 20 Feb 2022</td> <th>  Prob (F-statistic):</th>  <td>  0.00</td>  \n",
       "</tr>\n",
       "<tr>\n",
       "  <th>Time:</th>                 <td>20:23:56</td>     <th>  Log-Likelihood:    </th> <td> -58649.</td> \n",
       "</tr>\n",
       "<tr>\n",
       "  <th>No. Observations:</th>      <td>  4229</td>      <th>  AIC:               </th> <td>1.173e+05</td>\n",
       "</tr>\n",
       "<tr>\n",
       "  <th>Df Residuals:</th>          <td>  4223</td>      <th>  BIC:               </th> <td>1.173e+05</td>\n",
       "</tr>\n",
       "<tr>\n",
       "  <th>Df Model:</th>              <td>     5</td>      <th>                     </th>     <td> </td>    \n",
       "</tr>\n",
       "<tr>\n",
       "  <th>Covariance Type:</th>      <td>nonrobust</td>    <th>                     </th>     <td> </td>    \n",
       "</tr>\n",
       "</table>\n",
       "<table class=\"simpletable\">\n",
       "<tr>\n",
       "       <td></td>          <th>coef</th>     <th>std err</th>      <th>t</th>      <th>P>|t|</th>  <th>[0.025</th>    <th>0.975]</th>  \n",
       "</tr>\n",
       "<tr>\n",
       "  <th>Intercept</th>   <td> 5.412e+05</td> <td> 3930.625</td> <td>  137.691</td> <td> 0.000</td> <td> 5.34e+05</td> <td> 5.49e+05</td>\n",
       "</tr>\n",
       "<tr>\n",
       "  <th>bathrooms</th>   <td> 2.208e+04</td> <td> 6162.975</td> <td>    3.582</td> <td> 0.000</td> <td> 9992.458</td> <td> 3.42e+04</td>\n",
       "</tr>\n",
       "<tr>\n",
       "  <th>bedrooms</th>    <td>-4.663e+04</td> <td> 5024.533</td> <td>   -9.281</td> <td> 0.000</td> <td>-5.65e+04</td> <td>-3.68e+04</td>\n",
       "</tr>\n",
       "<tr>\n",
       "  <th>sqft_living</th> <td> 2.794e+05</td> <td> 9937.055</td> <td>   28.112</td> <td> 0.000</td> <td>  2.6e+05</td> <td> 2.99e+05</td>\n",
       "</tr>\n",
       "<tr>\n",
       "  <th>sqft_above</th>  <td>-2.522e+04</td> <td> 8227.270</td> <td>   -3.065</td> <td> 0.002</td> <td>-4.13e+04</td> <td>-9088.961</td>\n",
       "</tr>\n",
       "<tr>\n",
       "  <th>grade</th>       <td>-4.845e+04</td> <td> 4379.625</td> <td>  -11.062</td> <td> 0.000</td> <td> -5.7e+04</td> <td>-3.99e+04</td>\n",
       "</tr>\n",
       "</table>\n",
       "<table class=\"simpletable\">\n",
       "<tr>\n",
       "  <th>Omnibus:</th>       <td>2986.417</td> <th>  Durbin-Watson:     </th>  <td>   1.983</td> \n",
       "</tr>\n",
       "<tr>\n",
       "  <th>Prob(Omnibus):</th>  <td> 0.000</td>  <th>  Jarque-Bera (JB):  </th> <td>129377.303</td>\n",
       "</tr>\n",
       "<tr>\n",
       "  <th>Skew:</th>           <td> 2.851</td>  <th>  Prob(JB):          </th>  <td>    0.00</td> \n",
       "</tr>\n",
       "<tr>\n",
       "  <th>Kurtosis:</th>       <td>29.490</td>  <th>  Cond. No.          </th>  <td>    5.31</td> \n",
       "</tr>\n",
       "</table><br/><br/>Notes:<br/>[1] Standard Errors assume that the covariance matrix of the errors is correctly specified."
      ],
      "text/plain": [
       "<class 'statsmodels.iolib.summary.Summary'>\n",
       "\"\"\"\n",
       "                            OLS Regression Results                            \n",
       "==============================================================================\n",
       "Dep. Variable:                  price   R-squared:                       0.511\n",
       "Model:                            OLS   Adj. R-squared:                  0.510\n",
       "Method:                 Least Squares   F-statistic:                     882.7\n",
       "Date:                Sun, 20 Feb 2022   Prob (F-statistic):               0.00\n",
       "Time:                        20:23:56   Log-Likelihood:                -58649.\n",
       "No. Observations:                4229   AIC:                         1.173e+05\n",
       "Df Residuals:                    4223   BIC:                         1.173e+05\n",
       "Df Model:                           5                                         \n",
       "Covariance Type:            nonrobust                                         \n",
       "===============================================================================\n",
       "                  coef    std err          t      P>|t|      [0.025      0.975]\n",
       "-------------------------------------------------------------------------------\n",
       "Intercept    5.412e+05   3930.625    137.691      0.000    5.34e+05    5.49e+05\n",
       "bathrooms    2.208e+04   6162.975      3.582      0.000    9992.458    3.42e+04\n",
       "bedrooms    -4.663e+04   5024.533     -9.281      0.000   -5.65e+04   -3.68e+04\n",
       "sqft_living  2.794e+05   9937.055     28.112      0.000     2.6e+05    2.99e+05\n",
       "sqft_above  -2.522e+04   8227.270     -3.065      0.002   -4.13e+04   -9088.961\n",
       "grade       -4.845e+04   4379.625    -11.062      0.000    -5.7e+04   -3.99e+04\n",
       "==============================================================================\n",
       "Omnibus:                     2986.417   Durbin-Watson:                   1.983\n",
       "Prob(Omnibus):                  0.000   Jarque-Bera (JB):           129377.303\n",
       "Skew:                           2.851   Prob(JB):                         0.00\n",
       "Kurtosis:                      29.490   Cond. No.                         5.31\n",
       "==============================================================================\n",
       "\n",
       "Notes:\n",
       "[1] Standard Errors assume that the covariance matrix of the errors is correctly specified.\n",
       "\"\"\""
      ]
     },
     "execution_count": 43,
     "metadata": {},
     "output_type": "execute_result"
    }
   ],
   "source": [
    "model = ols(formula,df_test_scale).fit()\n",
    "model.summary()"
   ]
  },
  {
   "cell_type": "markdown",
   "metadata": {},
   "source": [
    "### Advanced Model"
   ]
  },
  {
   "cell_type": "markdown",
   "metadata": {},
   "source": [
    "Now we can add our engineered features to see if our base model improves at all."
   ]
  },
  {
   "cell_type": "code",
   "execution_count": 44,
   "metadata": {
    "scrolled": false
   },
   "outputs": [
    {
     "data": {
      "text/html": [
       "<table class=\"simpletable\">\n",
       "<caption>OLS Regression Results</caption>\n",
       "<tr>\n",
       "  <th>Dep. Variable:</th>          <td>price</td>      <th>  R-squared:         </th>  <td>   0.559</td>  \n",
       "</tr>\n",
       "<tr>\n",
       "  <th>Model:</th>                   <td>OLS</td>       <th>  Adj. R-squared:    </th>  <td>   0.559</td>  \n",
       "</tr>\n",
       "<tr>\n",
       "  <th>Method:</th>             <td>Least Squares</td>  <th>  F-statistic:       </th>  <td>   3066.</td>  \n",
       "</tr>\n",
       "<tr>\n",
       "  <th>Date:</th>             <td>Sun, 20 Feb 2022</td> <th>  Prob (F-statistic):</th>   <td>  0.00</td>   \n",
       "</tr>\n",
       "<tr>\n",
       "  <th>Time:</th>                 <td>20:23:56</td>     <th>  Log-Likelihood:    </th> <td>-2.3386e+05</td>\n",
       "</tr>\n",
       "<tr>\n",
       "  <th>No. Observations:</th>      <td> 16913</td>      <th>  AIC:               </th>  <td>4.677e+05</td> \n",
       "</tr>\n",
       "<tr>\n",
       "  <th>Df Residuals:</th>          <td> 16905</td>      <th>  BIC:               </th>  <td>4.678e+05</td> \n",
       "</tr>\n",
       "<tr>\n",
       "  <th>Df Model:</th>              <td>     7</td>      <th>                     </th>      <td> </td>     \n",
       "</tr>\n",
       "<tr>\n",
       "  <th>Covariance Type:</th>      <td>nonrobust</td>    <th>                     </th>      <td> </td>     \n",
       "</tr>\n",
       "</table>\n",
       "<table class=\"simpletable\">\n",
       "<tr>\n",
       "       <td></td>          <th>coef</th>     <th>std err</th>      <th>t</th>      <th>P>|t|</th>  <th>[0.025</th>    <th>0.975]</th>  \n",
       "</tr>\n",
       "<tr>\n",
       "  <th>Intercept</th>   <td> 5.406e+05</td> <td> 1883.382</td> <td>  287.053</td> <td> 0.000</td> <td> 5.37e+05</td> <td> 5.44e+05</td>\n",
       "</tr>\n",
       "<tr>\n",
       "  <th>bathrooms</th>   <td> 1.938e+04</td> <td> 2957.011</td> <td>    6.553</td> <td> 0.000</td> <td> 1.36e+04</td> <td> 2.52e+04</td>\n",
       "</tr>\n",
       "<tr>\n",
       "  <th>bedrooms</th>    <td>-4.678e+04</td> <td> 2418.602</td> <td>  -19.340</td> <td> 0.000</td> <td>-5.15e+04</td> <td> -4.2e+04</td>\n",
       "</tr>\n",
       "<tr>\n",
       "  <th>sqft_living</th> <td> 2.731e+05</td> <td> 4665.497</td> <td>   58.543</td> <td> 0.000</td> <td> 2.64e+05</td> <td> 2.82e+05</td>\n",
       "</tr>\n",
       "<tr>\n",
       "  <th>sqft_above</th>  <td> -623.2164</td> <td> 4124.246</td> <td>   -0.151</td> <td> 0.880</td> <td>-8707.168</td> <td> 7460.736</td>\n",
       "</tr>\n",
       "<tr>\n",
       "  <th>grade</th>       <td>-5.381e+04</td> <td> 2036.129</td> <td>  -26.428</td> <td> 0.000</td> <td>-5.78e+04</td> <td>-4.98e+04</td>\n",
       "</tr>\n",
       "<tr>\n",
       "  <th>region</th>      <td> 5220.8151</td> <td> 1902.361</td> <td>    2.744</td> <td> 0.006</td> <td> 1491.989</td> <td> 8949.641</td>\n",
       "</tr>\n",
       "<tr>\n",
       "  <th>in_sea</th>      <td>-6.395e+04</td> <td> 2036.100</td> <td>  -31.407</td> <td> 0.000</td> <td>-6.79e+04</td> <td>   -6e+04</td>\n",
       "</tr>\n",
       "</table>\n",
       "<table class=\"simpletable\">\n",
       "<tr>\n",
       "  <th>Omnibus:</th>       <td>11035.791</td> <th>  Durbin-Watson:     </th>  <td>   2.015</td> \n",
       "</tr>\n",
       "<tr>\n",
       "  <th>Prob(Omnibus):</th>  <td> 0.000</td>   <th>  Jarque-Bera (JB):  </th> <td>401685.862</td>\n",
       "</tr>\n",
       "<tr>\n",
       "  <th>Skew:</th>           <td> 2.616</td>   <th>  Prob(JB):          </th>  <td>    0.00</td> \n",
       "</tr>\n",
       "<tr>\n",
       "  <th>Kurtosis:</th>       <td>26.295</td>   <th>  Cond. No.          </th>  <td>    5.59</td> \n",
       "</tr>\n",
       "</table><br/><br/>Notes:<br/>[1] Standard Errors assume that the covariance matrix of the errors is correctly specified."
      ],
      "text/plain": [
       "<class 'statsmodels.iolib.summary.Summary'>\n",
       "\"\"\"\n",
       "                            OLS Regression Results                            \n",
       "==============================================================================\n",
       "Dep. Variable:                  price   R-squared:                       0.559\n",
       "Model:                            OLS   Adj. R-squared:                  0.559\n",
       "Method:                 Least Squares   F-statistic:                     3066.\n",
       "Date:                Sun, 20 Feb 2022   Prob (F-statistic):               0.00\n",
       "Time:                        20:23:56   Log-Likelihood:            -2.3386e+05\n",
       "No. Observations:               16913   AIC:                         4.677e+05\n",
       "Df Residuals:                   16905   BIC:                         4.678e+05\n",
       "Df Model:                           7                                         \n",
       "Covariance Type:            nonrobust                                         \n",
       "===============================================================================\n",
       "                  coef    std err          t      P>|t|      [0.025      0.975]\n",
       "-------------------------------------------------------------------------------\n",
       "Intercept    5.406e+05   1883.382    287.053      0.000    5.37e+05    5.44e+05\n",
       "bathrooms    1.938e+04   2957.011      6.553      0.000    1.36e+04    2.52e+04\n",
       "bedrooms    -4.678e+04   2418.602    -19.340      0.000   -5.15e+04    -4.2e+04\n",
       "sqft_living  2.731e+05   4665.497     58.543      0.000    2.64e+05    2.82e+05\n",
       "sqft_above   -623.2164   4124.246     -0.151      0.880   -8707.168    7460.736\n",
       "grade       -5.381e+04   2036.129    -26.428      0.000   -5.78e+04   -4.98e+04\n",
       "region       5220.8151   1902.361      2.744      0.006    1491.989    8949.641\n",
       "in_sea      -6.395e+04   2036.100    -31.407      0.000   -6.79e+04      -6e+04\n",
       "==============================================================================\n",
       "Omnibus:                    11035.791   Durbin-Watson:                   2.015\n",
       "Prob(Omnibus):                  0.000   Jarque-Bera (JB):           401685.862\n",
       "Skew:                           2.616   Prob(JB):                         0.00\n",
       "Kurtosis:                      26.295   Cond. No.                         5.59\n",
       "==============================================================================\n",
       "\n",
       "Notes:\n",
       "[1] Standard Errors assume that the covariance matrix of the errors is correctly specified.\n",
       "\"\"\""
      ]
     },
     "execution_count": 44,
     "metadata": {},
     "output_type": "execute_result"
    }
   ],
   "source": [
    "formula2 = f'price ~ bathrooms+bedrooms+sqft_living+sqft_above+grade+region+in_sea' # initialize our formula\n",
    "model = ols(formula2,df_train_scale).fit() # run an ols on our trained data and fit\n",
    "model.summary()"
   ]
  },
  {
   "cell_type": "code",
   "execution_count": 45,
   "metadata": {
    "scrolled": false
   },
   "outputs": [
    {
     "data": {
      "text/html": [
       "<table class=\"simpletable\">\n",
       "<caption>OLS Regression Results</caption>\n",
       "<tr>\n",
       "  <th>Dep. Variable:</th>          <td>price</td>      <th>  R-squared:         </th> <td>   0.545</td> \n",
       "</tr>\n",
       "<tr>\n",
       "  <th>Model:</th>                   <td>OLS</td>       <th>  Adj. R-squared:    </th> <td>   0.544</td> \n",
       "</tr>\n",
       "<tr>\n",
       "  <th>Method:</th>             <td>Least Squares</td>  <th>  F-statistic:       </th> <td>   722.6</td> \n",
       "</tr>\n",
       "<tr>\n",
       "  <th>Date:</th>             <td>Sun, 20 Feb 2022</td> <th>  Prob (F-statistic):</th>  <td>  0.00</td>  \n",
       "</tr>\n",
       "<tr>\n",
       "  <th>Time:</th>                 <td>20:23:56</td>     <th>  Log-Likelihood:    </th> <td> -58496.</td> \n",
       "</tr>\n",
       "<tr>\n",
       "  <th>No. Observations:</th>      <td>  4229</td>      <th>  AIC:               </th> <td>1.170e+05</td>\n",
       "</tr>\n",
       "<tr>\n",
       "  <th>Df Residuals:</th>          <td>  4221</td>      <th>  BIC:               </th> <td>1.171e+05</td>\n",
       "</tr>\n",
       "<tr>\n",
       "  <th>Df Model:</th>              <td>     7</td>      <th>                     </th>     <td> </td>    \n",
       "</tr>\n",
       "<tr>\n",
       "  <th>Covariance Type:</th>      <td>nonrobust</td>    <th>                     </th>     <td> </td>    \n",
       "</tr>\n",
       "</table>\n",
       "<table class=\"simpletable\">\n",
       "<tr>\n",
       "       <td></td>          <th>coef</th>     <th>std err</th>      <th>t</th>      <th>P>|t|</th>  <th>[0.025</th>    <th>0.975]</th>  \n",
       "</tr>\n",
       "<tr>\n",
       "  <th>Intercept</th>   <td> 5.435e+05</td> <td> 3794.905</td> <td>  143.222</td> <td> 0.000</td> <td> 5.36e+05</td> <td> 5.51e+05</td>\n",
       "</tr>\n",
       "<tr>\n",
       "  <th>bathrooms</th>   <td> 2.638e+04</td> <td> 5965.028</td> <td>    4.423</td> <td> 0.000</td> <td> 1.47e+04</td> <td> 3.81e+04</td>\n",
       "</tr>\n",
       "<tr>\n",
       "  <th>bedrooms</th>    <td>-4.162e+04</td> <td> 4860.295</td> <td>   -8.564</td> <td> 0.000</td> <td>-5.12e+04</td> <td>-3.21e+04</td>\n",
       "</tr>\n",
       "<tr>\n",
       "  <th>sqft_living</th> <td> 2.579e+05</td> <td> 9681.819</td> <td>   26.635</td> <td> 0.000</td> <td> 2.39e+05</td> <td> 2.77e+05</td>\n",
       "</tr>\n",
       "<tr>\n",
       "  <th>sqft_above</th>  <td> 1.426e+04</td> <td> 8254.377</td> <td>    1.727</td> <td> 0.084</td> <td>-1925.236</td> <td> 3.04e+04</td>\n",
       "</tr>\n",
       "<tr>\n",
       "  <th>grade</th>       <td>-4.505e+04</td> <td> 4231.405</td> <td>  -10.645</td> <td> 0.000</td> <td>-5.33e+04</td> <td>-3.67e+04</td>\n",
       "</tr>\n",
       "<tr>\n",
       "  <th>region</th>      <td> 1.471e+04</td> <td> 3837.411</td> <td>    3.833</td> <td> 0.000</td> <td> 7184.988</td> <td> 2.22e+04</td>\n",
       "</tr>\n",
       "<tr>\n",
       "  <th>in_sea</th>      <td>-7.192e+04</td> <td> 4095.312</td> <td>  -17.562</td> <td> 0.000</td> <td>   -8e+04</td> <td>-6.39e+04</td>\n",
       "</tr>\n",
       "</table>\n",
       "<table class=\"simpletable\">\n",
       "<tr>\n",
       "  <th>Omnibus:</th>       <td>2977.952</td> <th>  Durbin-Watson:     </th>  <td>   1.981</td> \n",
       "</tr>\n",
       "<tr>\n",
       "  <th>Prob(Omnibus):</th>  <td> 0.000</td>  <th>  Jarque-Bera (JB):  </th> <td>131554.485</td>\n",
       "</tr>\n",
       "<tr>\n",
       "  <th>Skew:</th>           <td> 2.831</td>  <th>  Prob(JB):          </th>  <td>    0.00</td> \n",
       "</tr>\n",
       "<tr>\n",
       "  <th>Kurtosis:</th>       <td>29.731</td>  <th>  Cond. No.          </th>  <td>    5.56</td> \n",
       "</tr>\n",
       "</table><br/><br/>Notes:<br/>[1] Standard Errors assume that the covariance matrix of the errors is correctly specified."
      ],
      "text/plain": [
       "<class 'statsmodels.iolib.summary.Summary'>\n",
       "\"\"\"\n",
       "                            OLS Regression Results                            \n",
       "==============================================================================\n",
       "Dep. Variable:                  price   R-squared:                       0.545\n",
       "Model:                            OLS   Adj. R-squared:                  0.544\n",
       "Method:                 Least Squares   F-statistic:                     722.6\n",
       "Date:                Sun, 20 Feb 2022   Prob (F-statistic):               0.00\n",
       "Time:                        20:23:56   Log-Likelihood:                -58496.\n",
       "No. Observations:                4229   AIC:                         1.170e+05\n",
       "Df Residuals:                    4221   BIC:                         1.171e+05\n",
       "Df Model:                           7                                         \n",
       "Covariance Type:            nonrobust                                         \n",
       "===============================================================================\n",
       "                  coef    std err          t      P>|t|      [0.025      0.975]\n",
       "-------------------------------------------------------------------------------\n",
       "Intercept    5.435e+05   3794.905    143.222      0.000    5.36e+05    5.51e+05\n",
       "bathrooms    2.638e+04   5965.028      4.423      0.000    1.47e+04    3.81e+04\n",
       "bedrooms    -4.162e+04   4860.295     -8.564      0.000   -5.12e+04   -3.21e+04\n",
       "sqft_living  2.579e+05   9681.819     26.635      0.000    2.39e+05    2.77e+05\n",
       "sqft_above   1.426e+04   8254.377      1.727      0.084   -1925.236    3.04e+04\n",
       "grade       -4.505e+04   4231.405    -10.645      0.000   -5.33e+04   -3.67e+04\n",
       "region       1.471e+04   3837.411      3.833      0.000    7184.988    2.22e+04\n",
       "in_sea      -7.192e+04   4095.312    -17.562      0.000      -8e+04   -6.39e+04\n",
       "==============================================================================\n",
       "Omnibus:                     2977.952   Durbin-Watson:                   1.981\n",
       "Prob(Omnibus):                  0.000   Jarque-Bera (JB):           131554.485\n",
       "Skew:                           2.831   Prob(JB):                         0.00\n",
       "Kurtosis:                      29.731   Cond. No.                         5.56\n",
       "==============================================================================\n",
       "\n",
       "Notes:\n",
       "[1] Standard Errors assume that the covariance matrix of the errors is correctly specified.\n",
       "\"\"\""
      ]
     },
     "execution_count": 45,
     "metadata": {},
     "output_type": "execute_result"
    }
   ],
   "source": [
    "model = ols(formula2,df_test_scale).fit() # run an ols on our trained data and fit\n",
    "model.summary()"
   ]
  },
  {
   "cell_type": "markdown",
   "metadata": {},
   "source": [
    "We did it! Our model improves accuracy!"
   ]
  },
  {
   "cell_type": "markdown",
   "metadata": {},
   "source": [
    "## Residual Analysis/Validations <a class=\"anchor\" id=\"10\"></a>"
   ]
  },
  {
   "cell_type": "code",
   "execution_count": 46,
   "metadata": {},
   "outputs": [
    {
     "data": {
      "text/html": [
       "<div>\n",
       "<style scoped>\n",
       "    .dataframe tbody tr th:only-of-type {\n",
       "        vertical-align: middle;\n",
       "    }\n",
       "\n",
       "    .dataframe tbody tr th {\n",
       "        vertical-align: top;\n",
       "    }\n",
       "\n",
       "    .dataframe thead th {\n",
       "        text-align: right;\n",
       "    }\n",
       "</style>\n",
       "<table border=\"1\" class=\"dataframe\">\n",
       "  <thead>\n",
       "    <tr style=\"text-align: right;\">\n",
       "      <th></th>\n",
       "      <th>Impact on Home Price</th>\n",
       "    </tr>\n",
       "  </thead>\n",
       "  <tbody>\n",
       "    <tr>\n",
       "      <th>bathrooms</th>\n",
       "      <td>19062</td>\n",
       "    </tr>\n",
       "    <tr>\n",
       "      <th>bedrooms</th>\n",
       "      <td>-55927</td>\n",
       "    </tr>\n",
       "    <tr>\n",
       "      <th>sqft_living</th>\n",
       "      <td>317</td>\n",
       "    </tr>\n",
       "    <tr>\n",
       "      <th>sqft_above</th>\n",
       "      <td>-44</td>\n",
       "    </tr>\n",
       "    <tr>\n",
       "      <th>grade</th>\n",
       "      <td>-24393</td>\n",
       "    </tr>\n",
       "  </tbody>\n",
       "</table>\n",
       "</div>"
      ],
      "text/plain": [
       "             Impact on Home Price\n",
       "bathrooms                   19062\n",
       "bedrooms                   -55927\n",
       "sqft_living                   317\n",
       "sqft_above                    -44\n",
       "grade                      -24393"
      ]
     },
     "execution_count": 46,
     "metadata": {},
     "output_type": "execute_result"
    }
   ],
   "source": [
    "# get unscaled train data to determine impact on our features\n",
    "\n",
    "model_unscaled = ols(formula,X_train_final).fit()\n",
    "unscaled_coeff= pd.DataFrame(model_unscaled.params)\n",
    "unscaled_coeff.rename({0:'Impact on Home Price'},axis=1,inplace=True)\n",
    "unscaled_coeff.drop(['Intercept'],inplace=True) # get rid of the intercept, not an actual feature\n",
    "unscaled_coeff['Impact on Home Price'] =  unscaled_coeff['Impact on Home Price'].map(round)\n",
    "\n",
    "unscaled_coeff"
   ]
  },
  {
   "cell_type": "code",
   "execution_count": 47,
   "metadata": {},
   "outputs": [
    {
     "name": "stdout",
     "output_type": "stream",
     "text": [
      "Rsquared of test model: 0.545\n"
     ]
    }
   ],
   "source": [
    "y_prediction = model.predict(df_test_scale) # create a prediction to test R2 of our test data\n",
    "print('Rsquared of test model:', r2_score(y_test,y_prediction).round(3))"
   ]
  },
  {
   "cell_type": "markdown",
   "metadata": {},
   "source": [
    "Our predicted Rsquared is very close to our trained model, which was 0.559"
   ]
  },
  {
   "cell_type": "code",
   "execution_count": 48,
   "metadata": {},
   "outputs": [],
   "source": [
    "y_hat = model.predict(X_train_scale) # initialize our y-hat for our residual analysis"
   ]
  },
  {
   "cell_type": "code",
   "execution_count": 49,
   "metadata": {},
   "outputs": [
    {
     "data": {
      "image/png": "[encoded data removed]",
      "text/plain": [
       "<Figure size 1080x792 with 1 Axes>"
      ]
     },
     "metadata": {},
     "output_type": "display_data"
    }
   ],
   "source": [
    "qqplot(y_train - y_hat,line='r') # run a qqplot to look at the distribution of our residuals\n",
    "plt.show()"
   ]
  },
  {
   "cell_type": "markdown",
   "metadata": {},
   "source": [
    "### Heteroskedasticity"
   ]
  },
  {
   "cell_type": "code",
   "execution_count": 50,
   "metadata": {
    "scrolled": false
   },
   "outputs": [
    {
     "data": {
      "image/png": "[encoded data removed]",
      "text/plain": [
       "<Figure size 1080x792 with 1 Axes>"
      ]
     },
     "metadata": {},
     "output_type": "display_data"
    }
   ],
   "source": [
    "plt.scatter(y_hat, y_train - y_hat, label ='Train Data', alpha = 0.8)\n",
    "plt.scatter(y_prediction, y_test - y_prediction, label ='Test Data', alpha = 0.8)\n",
    "\n",
    "plt.axhline(y=0, color = 'red', label = '0')\n",
    "plt.xlabel('Prediction')\n",
    "plt.ylabel('Residual')\n",
    "plt.legend()\n",
    "plt.show()"
   ]
  },
  {
   "cell_type": "markdown",
   "metadata": {},
   "source": [
    "### Looking for normal distribution in our selected variables"
   ]
  },
  {
   "cell_type": "code",
   "execution_count": 51,
   "metadata": {
    "scrolled": false
   },
   "outputs": [
    {
     "data": {
      "image/png": "[encoded data removed]",
      "text/plain": [
       "<Figure size 1080x792 with 7 Axes>"
      ]
     },
     "metadata": {},
     "output_type": "display_data"
    }
   ],
   "source": [
    "df_enc.filter(items=[\"bathrooms\",\"bedrooms\",\"sqft_living\",\"sqft_above\",\"region\",\"grade\", \"in_sea\"], axis=1).plot.kde(subplots=True, sharex=False)\n",
    "plt.rcParams['figure.figsize'] = 16,6\n",
    "plt.show()"
   ]
  },
  {
   "cell_type": "markdown",
   "metadata": {},
   "source": [
    "Our two numerical features have a normal distribution, as do our categoricals. They are spread out because they can only exist in one category at a time, but the distributions are very good."
   ]
  },
  {
   "cell_type": "markdown",
   "metadata": {},
   "source": [
    "## Graph Creation"
   ]
  },
  {
   "cell_type": "code",
   "execution_count": 52,
   "metadata": {},
   "outputs": [
    {
     "name": "stdout",
     "output_type": "stream",
     "text": [
      "Upper whisker:  1614000.0\n",
      "Lower Whisker:  -647000.0\n"
     ]
    }
   ],
   "source": [
    "# Define function to determine outliers\n",
    "def outliers(df, col):\n",
    "    Q1= df[col].quantile(0.25)\n",
    "    Q3 = df[col].quantile(0.75)\n",
    "    IQR = Q3 - Q1\n",
    "    upper_limit = Q3 + 3 * IQR\n",
    "    lower_limit = Q1 - 3 * IQR\n",
    "    return upper_limit, lower_limit\n",
    "\n",
    "# Apply outlier function to 'price' data\n",
    "upper, lower = outliers(df, \"price\")\n",
    "print(\"Upper whisker: \", upper)\n",
    "print(\"Lower Whisker: \", lower)"
   ]
  },
  {
   "cell_type": "code",
   "execution_count": 53,
   "metadata": {},
   "outputs": [],
   "source": [
    "# Filter outliers with values from outlier function \n",
    "king_no_outlier_df = df[(df['price'] > lower) & (df['price'] < upper)]"
   ]
  },
  {
   "cell_type": "code",
   "execution_count": 54,
   "metadata": {},
   "outputs": [
    {
     "data": {
      "image/png": "[encoded data removed]",
      "text/plain": [
       "<Figure size 1152x864 with 1 Axes>"
      ]
     },
     "metadata": {},
     "output_type": "display_data"
    }
   ],
   "source": [
    "# Graph again with new Column, \"Seattle\", as the Hue.\n",
    "# Set up Boxplot dimensions\n",
    "plt.rc('font', size=16)\n",
    "plt.rc('axes', titlesize=30)\n",
    "plt.rc('axes', labelsize=24)\n",
    "plt.rc('xtick', labelsize=20)\n",
    "plt.rc('ytick', labelsize=20)\n",
    "plt.rc('legend', fontsize=16)\n",
    "\n",
    "fig, ax = plt.subplots(figsize=(16,12))\n",
    "\n",
    "g = sns.boxplot(data=king_no_outlier_df, x = 'region', y='price', hue='in_sea',showfliers=False)\n",
    "ax.set_ylabel(\"Price (M)\")\n",
    "plt.title('Region Effect on Sales Price (Non-Seattle)');"
   ]
  },
  {
   "cell_type": "code",
   "execution_count": 55,
   "metadata": {},
   "outputs": [],
   "source": [
    "# Calculate Population Mean\n",
    "pop_mu = sum(df['price']) / len(df['price'])\n",
    "\n",
    "# Seperate Regions into their own Data Frames\n",
    "north_df = df[(df['region'] == 'North') & (df['in_sea'] == 'NO')]\n",
    "south_df = df[(df['region'] == 'South') & (df['in_sea'] == 'NO')]\n",
    "east_df = df[(df['region'] == 'East') & (df['in_sea'] == 'NO')]\n",
    "west_df = df[(df['region'] == 'West') & (df['in_sea'] == 'NO')]\n",
    "\n",
    "north_SEA_df = df[(df['region'] == 'North') & (df['in_sea'] == 'YES')]\n",
    "south_SEA_df = df[(df['region'] == 'South') & (df['in_sea'] == 'YES')]\n",
    "east_SEA_df = df[(df['region'] == 'East') & (df['in_sea'] == 'YES')]\n",
    "west_SEA_df = df[(df['region'] == 'West') & (df['in_sea'] == 'YES')]\n",
    "\n",
    "# Calculate average prices for each region\n",
    "north_mean = sum(north_df['price']) / len(north_df['price'])\n",
    "south_mean = sum(south_df['price']) / len(south_df['price'])\n",
    "east_mean = sum(east_df['price']) / len(east_df['price'])\n",
    "west_mean = sum(west_df['price']) / len(west_df['price'])\n",
    "\n",
    "north_SEA_mean = sum(north_SEA_df['price']) / len(north_SEA_df['price'])\n",
    "south_SEA_mean = sum(south_SEA_df['price']) / len(south_SEA_df['price'])\n",
    "east_SEA_mean = sum(east_SEA_df['price']) / len(east_SEA_df['price'])\n",
    "west_SEA_mean = sum(west_SEA_df['price']) / len(west_SEA_df['price'])"
   ]
  },
  {
   "cell_type": "code",
   "execution_count": 56,
   "metadata": {},
   "outputs": [
    {
     "name": "stdout",
     "output_type": "stream",
     "text": [
      "King North mean price is 91157.94255416282 more/(less) than average King County Price.\n",
      "King East mean price is -39119.12642751739 more/(less) than average King County Price.\n",
      "King West mean price is 165697.32778907812 more/(less) than average King County Price.\n",
      "King South mean price is -240931.7540097959 more/(less) than average King County Price.\n",
      "King SEA North mean price is 14311.566455461318 more/(less) than average King County Price.\n",
      "King SEA East mean price is 287641.8335480924 more/(less) than average King County Price.\n",
      "King SEA West mean price is 67933.99277115811 more/(less) than average King County Price.\n",
      "King SEA South mean price is -164161.37140457286 more/(less) than average King County Price.\n"
     ]
    }
   ],
   "source": [
    "print(f'King North mean price is {(north_mean - pop_mu)} more/(less) than average King County Price.')\n",
    "print(f'King East mean price is {(east_mean - pop_mu)} more/(less) than average King County Price.')\n",
    "print(f'King West mean price is {(west_mean - pop_mu)} more/(less) than average King County Price.')\n",
    "print(f'King South mean price is {(south_mean - pop_mu)} more/(less) than average King County Price.')\n",
    "print(f'King SEA North mean price is {(north_SEA_mean - pop_mu)} more/(less) than average King County Price.')\n",
    "print(f'King SEA East mean price is {(east_SEA_mean - pop_mu)} more/(less) than average King County Price.')\n",
    "print(f'King SEA West mean price is {(west_SEA_mean - pop_mu)} more/(less) than average King County Price.')\n",
    "print(f'King SEA South mean price is {(south_SEA_mean - pop_mu)} more/(less) than average King County Price.')"
   ]
  },
  {
   "cell_type": "markdown",
   "metadata": {},
   "source": [
    "# Resources"
   ]
  },
  {
   "cell_type": "code",
   "execution_count": 57,
   "metadata": {},
   "outputs": [],
   "source": [
    "# 1) https://www.zipdatamaps.com/king-wa-county-zipcodes\n",
    "# 2) https://www.ciclt.net/sn/clt/capitolimpact/gw_ziplist.aspx?FIPS=53033"
   ]
  }
 ],
 "metadata": {
  "kernelspec": {
   "display_name": "Python (learn-env)",
   "language": "python",
   "name": "learn-env"
  },
  "language_info": {
   "codemirror_mode": {
    "name": "ipython",
    "version": 3
   },
   "file_extension": ".py",
   "mimetype": "text/x-python",
   "name": "python",
   "nbconvert_exporter": "python",
   "pygments_lexer": "ipython3",
   "version": "3.8.5"
  }
 },
 "nbformat": 4,
 "nbformat_minor": 4
}
